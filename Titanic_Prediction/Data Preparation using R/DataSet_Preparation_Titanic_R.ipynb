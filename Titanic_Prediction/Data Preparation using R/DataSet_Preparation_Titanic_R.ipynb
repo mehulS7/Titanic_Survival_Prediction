{
 "cells": [
  {
   "cell_type": "code",
   "execution_count": 1,
   "metadata": {},
   "outputs": [
    {
     "name": "stderr",
     "output_type": "stream",
     "text": [
      "Warning message:\n",
      "\"package 'tidyverse' was built under R version 3.5.2\"-- Attaching packages --------------------------------------- tidyverse 1.2.1 --\n",
      "v ggplot2 3.1.0     v purrr   0.2.5\n",
      "v tibble  1.4.2     v dplyr   0.7.8\n",
      "v tidyr   0.8.2     v stringr 1.3.1\n",
      "v readr   1.3.1     v forcats 0.3.0\n",
      "Warning message:\n",
      "\"package 'readr' was built under R version 3.5.2\"Warning message:\n",
      "\"package 'forcats' was built under R version 3.5.2\"-- Conflicts ------------------------------------------ tidyverse_conflicts() --\n",
      "x dplyr::filter() masks stats::filter()\n",
      "x dplyr::lag()    masks stats::lag()\n"
     ]
    }
   ],
   "source": [
    "#load the package\n",
    "library(tidyverse)"
   ]
  },
  {
   "cell_type": "code",
   "execution_count": 2,
   "metadata": {},
   "outputs": [
    {
     "name": "stderr",
     "output_type": "stream",
     "text": [
      "Parsed with column specification:\n",
      "cols(\n",
      "  PassengerId = col_double(),\n",
      "  Survived = col_double(),\n",
      "  Pclass = col_double(),\n",
      "  Name = col_character(),\n",
      "  Sex = col_character(),\n",
      "  Age = col_double(),\n",
      "  SibSp = col_double(),\n",
      "  Parch = col_double(),\n",
      "  Ticket = col_character(),\n",
      "  Fare = col_double(),\n",
      "  Cabin = col_character(),\n",
      "  Embarked = col_character()\n",
      ")\n"
     ]
    }
   ],
   "source": [
    "#Load the data into the workspace\n",
    "path <- file.path('C:\\\\Users\\\\mehul\\\\OneDrive\\\\Desktop\\\\titanic_new_data\\\\final_train.csv')\n",
    "data <- read_csv(path)"
   ]
  },
  {
   "cell_type": "code",
   "execution_count": 3,
   "metadata": {},
   "outputs": [
    {
     "data": {
      "text/html": [
       "<table>\n",
       "<thead><tr><th scope=col>PassengerId</th><th scope=col>Survived</th><th scope=col>Pclass</th><th scope=col>Name</th><th scope=col>Sex</th><th scope=col>Age</th><th scope=col>SibSp</th><th scope=col>Parch</th><th scope=col>Ticket</th><th scope=col>Fare</th><th scope=col>Cabin</th><th scope=col>Embarked</th></tr></thead>\n",
       "<tbody>\n",
       "\t<tr><td>1                                                  </td><td>0                                                  </td><td>3                                                  </td><td>Braund, Mr. Owen Harris                            </td><td>male                                               </td><td>22                                                 </td><td>1                                                  </td><td>0                                                  </td><td>A/5 21171                                          </td><td> 7.2500                                            </td><td>NA                                                 </td><td>S                                                  </td></tr>\n",
       "\t<tr><td>2                                                  </td><td>1                                                  </td><td>1                                                  </td><td>Cumings, Mrs. John Bradley (Florence Briggs Thayer)</td><td>female                                             </td><td>38                                                 </td><td>1                                                  </td><td>0                                                  </td><td>PC 17599                                           </td><td>71.2833                                            </td><td>C85                                                </td><td>C                                                  </td></tr>\n",
       "\t<tr><td>3                                                  </td><td>1                                                  </td><td>3                                                  </td><td>Heikkinen, Miss. Laina                             </td><td>female                                             </td><td>26                                                 </td><td>0                                                  </td><td>0                                                  </td><td>STON/O2. 3101282                                   </td><td> 7.9250                                            </td><td>NA                                                 </td><td>S                                                  </td></tr>\n",
       "\t<tr><td>4                                                  </td><td>1                                                  </td><td>1                                                  </td><td>Futrelle, Mrs. Jacques Heath (Lily May Peel)       </td><td>female                                             </td><td>35                                                 </td><td>1                                                  </td><td>0                                                  </td><td>113803                                             </td><td>53.1000                                            </td><td>C123                                               </td><td>S                                                  </td></tr>\n",
       "\t<tr><td>5                                                  </td><td>0                                                  </td><td>3                                                  </td><td>Allen, Mr. William Henry                           </td><td>male                                               </td><td>35                                                 </td><td>0                                                  </td><td>0                                                  </td><td>373450                                             </td><td> 8.0500                                            </td><td>NA                                                 </td><td>S                                                  </td></tr>\n",
       "\t<tr><td>6                                                  </td><td>0                                                  </td><td>3                                                  </td><td>Moran, Mr. James                                   </td><td>male                                               </td><td>NA                                                 </td><td>0                                                  </td><td>0                                                  </td><td>330877                                             </td><td> 8.4583                                            </td><td>NA                                                 </td><td>Q                                                  </td></tr>\n",
       "</tbody>\n",
       "</table>\n"
      ],
      "text/latex": [
       "\\begin{tabular}{r|llllllllllll}\n",
       " PassengerId & Survived & Pclass & Name & Sex & Age & SibSp & Parch & Ticket & Fare & Cabin & Embarked\\\\\n",
       "\\hline\n",
       "\t 1                                                   & 0                                                   & 3                                                   & Braund, Mr. Owen Harris                             & male                                                & 22                                                  & 1                                                   & 0                                                   & A/5 21171                                           &  7.2500                                             & NA                                                  & S                                                  \\\\\n",
       "\t 2                                                   & 1                                                   & 1                                                   & Cumings, Mrs. John Bradley (Florence Briggs Thayer) & female                                              & 38                                                  & 1                                                   & 0                                                   & PC 17599                                            & 71.2833                                             & C85                                                 & C                                                  \\\\\n",
       "\t 3                                                   & 1                                                   & 3                                                   & Heikkinen, Miss. Laina                              & female                                              & 26                                                  & 0                                                   & 0                                                   & STON/O2. 3101282                                    &  7.9250                                             & NA                                                  & S                                                  \\\\\n",
       "\t 4                                                   & 1                                                   & 1                                                   & Futrelle, Mrs. Jacques Heath (Lily May Peel)        & female                                              & 35                                                  & 1                                                   & 0                                                   & 113803                                              & 53.1000                                             & C123                                                & S                                                  \\\\\n",
       "\t 5                                                   & 0                                                   & 3                                                   & Allen, Mr. William Henry                            & male                                                & 35                                                  & 0                                                   & 0                                                   & 373450                                              &  8.0500                                             & NA                                                  & S                                                  \\\\\n",
       "\t 6                                                   & 0                                                   & 3                                                   & Moran, Mr. James                                    & male                                                & NA                                                  & 0                                                   & 0                                                   & 330877                                              &  8.4583                                             & NA                                                  & Q                                                  \\\\\n",
       "\\end{tabular}\n"
      ],
      "text/markdown": [
       "\n",
       "| PassengerId | Survived | Pclass | Name | Sex | Age | SibSp | Parch | Ticket | Fare | Cabin | Embarked |\n",
       "|---|---|---|---|---|---|---|---|---|---|---|---|\n",
       "| 1                                                   | 0                                                   | 3                                                   | Braund, Mr. Owen Harris                             | male                                                | 22                                                  | 1                                                   | 0                                                   | A/5 21171                                           |  7.2500                                             | NA                                                  | S                                                   |\n",
       "| 2                                                   | 1                                                   | 1                                                   | Cumings, Mrs. John Bradley (Florence Briggs Thayer) | female                                              | 38                                                  | 1                                                   | 0                                                   | PC 17599                                            | 71.2833                                             | C85                                                 | C                                                   |\n",
       "| 3                                                   | 1                                                   | 3                                                   | Heikkinen, Miss. Laina                              | female                                              | 26                                                  | 0                                                   | 0                                                   | STON/O2. 3101282                                    |  7.9250                                             | NA                                                  | S                                                   |\n",
       "| 4                                                   | 1                                                   | 1                                                   | Futrelle, Mrs. Jacques Heath (Lily May Peel)        | female                                              | 35                                                  | 1                                                   | 0                                                   | 113803                                              | 53.1000                                             | C123                                                | S                                                   |\n",
       "| 5                                                   | 0                                                   | 3                                                   | Allen, Mr. William Henry                            | male                                                | 35                                                  | 0                                                   | 0                                                   | 373450                                              |  8.0500                                             | NA                                                  | S                                                   |\n",
       "| 6                                                   | 0                                                   | 3                                                   | Moran, Mr. James                                    | male                                                | NA                                                  | 0                                                   | 0                                                   | 330877                                              |  8.4583                                             | NA                                                  | Q                                                   |\n",
       "\n"
      ],
      "text/plain": [
       "  PassengerId Survived Pclass\n",
       "1 1           0        3     \n",
       "2 2           1        1     \n",
       "3 3           1        3     \n",
       "4 4           1        1     \n",
       "5 5           0        3     \n",
       "6 6           0        3     \n",
       "  Name                                                Sex    Age SibSp Parch\n",
       "1 Braund, Mr. Owen Harris                             male   22  1     0    \n",
       "2 Cumings, Mrs. John Bradley (Florence Briggs Thayer) female 38  1     0    \n",
       "3 Heikkinen, Miss. Laina                              female 26  0     0    \n",
       "4 Futrelle, Mrs. Jacques Heath (Lily May Peel)        female 35  1     0    \n",
       "5 Allen, Mr. William Henry                            male   35  0     0    \n",
       "6 Moran, Mr. James                                    male   NA  0     0    \n",
       "  Ticket           Fare    Cabin Embarked\n",
       "1 A/5 21171         7.2500 NA    S       \n",
       "2 PC 17599         71.2833 C85   C       \n",
       "3 STON/O2. 3101282  7.9250 NA    S       \n",
       "4 113803           53.1000 C123  S       \n",
       "5 373450            8.0500 NA    S       \n",
       "6 330877            8.4583 NA    Q       "
      ]
     },
     "metadata": {},
     "output_type": "display_data"
    },
    {
     "data": {
      "text/html": [
       "<table>\n",
       "<thead><tr><th scope=col>PassengerId</th><th scope=col>Survived</th><th scope=col>Pclass</th><th scope=col>Name</th><th scope=col>Sex</th><th scope=col>Age</th><th scope=col>SibSp</th><th scope=col>Parch</th><th scope=col>Ticket</th><th scope=col>Fare</th><th scope=col>Cabin</th><th scope=col>Embarked</th></tr></thead>\n",
       "<tbody>\n",
       "\t<tr><td>886                                     </td><td>0                                       </td><td>3                                       </td><td>Rice, Mrs. William (Margaret Norton)    </td><td>female                                  </td><td>39                                      </td><td>0                                       </td><td>5                                       </td><td>382652                                  </td><td>29.125                                  </td><td>NA                                      </td><td>Q                                       </td></tr>\n",
       "\t<tr><td>887                                     </td><td>0                                       </td><td>2                                       </td><td>Montvila, Rev. Juozas                   </td><td>male                                    </td><td>27                                      </td><td>0                                       </td><td>0                                       </td><td>211536                                  </td><td>13.000                                  </td><td>NA                                      </td><td>S                                       </td></tr>\n",
       "\t<tr><td>888                                     </td><td>1                                       </td><td>1                                       </td><td>Graham, Miss. Margaret Edith            </td><td>female                                  </td><td>19                                      </td><td>0                                       </td><td>0                                       </td><td>112053                                  </td><td>30.000                                  </td><td>B42                                     </td><td>S                                       </td></tr>\n",
       "\t<tr><td>889                                     </td><td>0                                       </td><td>3                                       </td><td>Johnston, Miss. Catherine Helen \"Carrie\"</td><td>female                                  </td><td>NA                                      </td><td>1                                       </td><td>2                                       </td><td>W./C. 6607                              </td><td>23.450                                  </td><td>NA                                      </td><td>S                                       </td></tr>\n",
       "\t<tr><td>890                                     </td><td>1                                       </td><td>1                                       </td><td>Behr, Mr. Karl Howell                   </td><td>male                                    </td><td>26                                      </td><td>0                                       </td><td>0                                       </td><td>111369                                  </td><td>30.000                                  </td><td>C148                                    </td><td>C                                       </td></tr>\n",
       "\t<tr><td>891                                     </td><td>0                                       </td><td>3                                       </td><td>Dooley, Mr. Patrick                     </td><td>male                                    </td><td>32                                      </td><td>0                                       </td><td>0                                       </td><td>370376                                  </td><td> 7.750                                  </td><td>NA                                      </td><td>Q                                       </td></tr>\n",
       "</tbody>\n",
       "</table>\n"
      ],
      "text/latex": [
       "\\begin{tabular}{r|llllllllllll}\n",
       " PassengerId & Survived & Pclass & Name & Sex & Age & SibSp & Parch & Ticket & Fare & Cabin & Embarked\\\\\n",
       "\\hline\n",
       "\t 886                                      & 0                                        & 3                                        & Rice, Mrs. William (Margaret Norton)     & female                                   & 39                                       & 0                                        & 5                                        & 382652                                   & 29.125                                   & NA                                       & Q                                       \\\\\n",
       "\t 887                                      & 0                                        & 2                                        & Montvila, Rev. Juozas                    & male                                     & 27                                       & 0                                        & 0                                        & 211536                                   & 13.000                                   & NA                                       & S                                       \\\\\n",
       "\t 888                                      & 1                                        & 1                                        & Graham, Miss. Margaret Edith             & female                                   & 19                                       & 0                                        & 0                                        & 112053                                   & 30.000                                   & B42                                      & S                                       \\\\\n",
       "\t 889                                      & 0                                        & 3                                        & Johnston, Miss. Catherine Helen \"Carrie\" & female                                   & NA                                       & 1                                        & 2                                        & W./C. 6607                               & 23.450                                   & NA                                       & S                                       \\\\\n",
       "\t 890                                      & 1                                        & 1                                        & Behr, Mr. Karl Howell                    & male                                     & 26                                       & 0                                        & 0                                        & 111369                                   & 30.000                                   & C148                                     & C                                       \\\\\n",
       "\t 891                                      & 0                                        & 3                                        & Dooley, Mr. Patrick                      & male                                     & 32                                       & 0                                        & 0                                        & 370376                                   &  7.750                                   & NA                                       & Q                                       \\\\\n",
       "\\end{tabular}\n"
      ],
      "text/markdown": [
       "\n",
       "| PassengerId | Survived | Pclass | Name | Sex | Age | SibSp | Parch | Ticket | Fare | Cabin | Embarked |\n",
       "|---|---|---|---|---|---|---|---|---|---|---|---|\n",
       "| 886                                      | 0                                        | 3                                        | Rice, Mrs. William (Margaret Norton)     | female                                   | 39                                       | 0                                        | 5                                        | 382652                                   | 29.125                                   | NA                                       | Q                                        |\n",
       "| 887                                      | 0                                        | 2                                        | Montvila, Rev. Juozas                    | male                                     | 27                                       | 0                                        | 0                                        | 211536                                   | 13.000                                   | NA                                       | S                                        |\n",
       "| 888                                      | 1                                        | 1                                        | Graham, Miss. Margaret Edith             | female                                   | 19                                       | 0                                        | 0                                        | 112053                                   | 30.000                                   | B42                                      | S                                        |\n",
       "| 889                                      | 0                                        | 3                                        | Johnston, Miss. Catherine Helen \"Carrie\" | female                                   | NA                                       | 1                                        | 2                                        | W./C. 6607                               | 23.450                                   | NA                                       | S                                        |\n",
       "| 890                                      | 1                                        | 1                                        | Behr, Mr. Karl Howell                    | male                                     | 26                                       | 0                                        | 0                                        | 111369                                   | 30.000                                   | C148                                     | C                                        |\n",
       "| 891                                      | 0                                        | 3                                        | Dooley, Mr. Patrick                      | male                                     | 32                                       | 0                                        | 0                                        | 370376                                   |  7.750                                   | NA                                       | Q                                        |\n",
       "\n"
      ],
      "text/plain": [
       "  PassengerId Survived Pclass Name                                     Sex   \n",
       "1 886         0        3      Rice, Mrs. William (Margaret Norton)     female\n",
       "2 887         0        2      Montvila, Rev. Juozas                    male  \n",
       "3 888         1        1      Graham, Miss. Margaret Edith             female\n",
       "4 889         0        3      Johnston, Miss. Catherine Helen \"Carrie\" female\n",
       "5 890         1        1      Behr, Mr. Karl Howell                    male  \n",
       "6 891         0        3      Dooley, Mr. Patrick                      male  \n",
       "  Age SibSp Parch Ticket     Fare   Cabin Embarked\n",
       "1 39  0     5     382652     29.125 NA    Q       \n",
       "2 27  0     0     211536     13.000 NA    S       \n",
       "3 19  0     0     112053     30.000 B42   S       \n",
       "4 NA  1     2     W./C. 6607 23.450 NA    S       \n",
       "5 26  0     0     111369     30.000 C148  C       \n",
       "6 32  0     0     370376      7.750 NA    Q       "
      ]
     },
     "metadata": {},
     "output_type": "display_data"
    },
    {
     "data": {
      "text/plain": [
       "  PassengerId       Survived          Pclass          Name          \n",
       " Min.   :  1.0   Min.   :0.0000   Min.   :1.000   Length:891        \n",
       " 1st Qu.:223.5   1st Qu.:0.0000   1st Qu.:2.000   Class :character  \n",
       " Median :446.0   Median :0.0000   Median :3.000   Mode  :character  \n",
       " Mean   :446.0   Mean   :0.3838   Mean   :2.309                     \n",
       " 3rd Qu.:668.5   3rd Qu.:1.0000   3rd Qu.:3.000                     \n",
       " Max.   :891.0   Max.   :1.0000   Max.   :3.000                     \n",
       "                                                                    \n",
       "     Sex                 Age            SibSp           Parch       \n",
       " Length:891         Min.   : 0.42   Min.   :0.000   Min.   :0.0000  \n",
       " Class :character   1st Qu.:20.12   1st Qu.:0.000   1st Qu.:0.0000  \n",
       " Mode  :character   Median :28.00   Median :0.000   Median :0.0000  \n",
       "                    Mean   :29.70   Mean   :0.523   Mean   :0.3816  \n",
       "                    3rd Qu.:38.00   3rd Qu.:1.000   3rd Qu.:0.0000  \n",
       "                    Max.   :80.00   Max.   :8.000   Max.   :6.0000  \n",
       "                    NA's   :177                                     \n",
       "    Ticket               Fare           Cabin             Embarked        \n",
       " Length:891         Min.   :  0.00   Length:891         Length:891        \n",
       " Class :character   1st Qu.:  7.91   Class :character   Class :character  \n",
       " Mode  :character   Median : 14.45   Mode  :character   Mode  :character  \n",
       "                    Mean   : 32.20                                        \n",
       "                    3rd Qu.: 31.00                                        \n",
       "                    Max.   :512.33                                        \n",
       "                                                                          "
      ]
     },
     "metadata": {},
     "output_type": "display_data"
    },
    {
     "name": "stdout",
     "output_type": "stream",
     "text": [
      "Observations: 891\n",
      "Variables: 12\n",
      "$ PassengerId <dbl> 1, 2, 3, 4, 5, 6, 7, 8, 9, 10, 11, 12, 13, 14, 15, 16, ...\n",
      "$ Survived    <dbl> 0, 1, 1, 1, 0, 0, 0, 0, 1, 1, 1, 1, 0, 0, 0, 1, 0, 1, 0...\n",
      "$ Pclass      <dbl> 3, 1, 3, 1, 3, 3, 1, 3, 3, 2, 3, 1, 3, 3, 3, 2, 3, 2, 3...\n",
      "$ Name        <chr> \"Braund, Mr. Owen Harris\", \"Cumings, Mrs. John Bradley ...\n",
      "$ Sex         <chr> \"male\", \"female\", \"female\", \"female\", \"male\", \"male\", \"...\n",
      "$ Age         <dbl> 22, 38, 26, 35, 35, NA, 54, 2, 27, 14, 4, 58, 20, 39, 1...\n",
      "$ SibSp       <dbl> 1, 1, 0, 1, 0, 0, 0, 3, 0, 1, 1, 0, 0, 1, 0, 0, 4, 0, 1...\n",
      "$ Parch       <dbl> 0, 0, 0, 0, 0, 0, 0, 1, 2, 0, 1, 0, 0, 5, 0, 0, 1, 0, 0...\n",
      "$ Ticket      <chr> \"A/5 21171\", \"PC 17599\", \"STON/O2. 3101282\", \"113803\", ...\n",
      "$ Fare        <dbl> 7.2500, 71.2833, 7.9250, 53.1000, 8.0500, 8.4583, 51.86...\n",
      "$ Cabin       <chr> NA, \"C85\", NA, \"C123\", NA, NA, \"E46\", NA, NA, NA, \"G6\",...\n",
      "$ Embarked    <chr> \"S\", \"C\", \"S\", \"S\", \"S\", \"Q\", \"S\", \"S\", \"S\", \"C\", \"S\", ...\n"
     ]
    }
   ],
   "source": [
    "#Anaylsing the data\n",
    "head(data) #overview of how data looks\n",
    "tail(data)\n",
    "summary(data) #summary points to know mean,median, Na values/missing values and more points\n",
    "glimpse(data) #structure of the data - to check character, number class variables"
   ]
  },
  {
   "cell_type": "code",
   "execution_count": 4,
   "metadata": {},
   "outputs": [
    {
     "data": {
      "image/png": "[encoded data removed]",
      "text/plain": [
       "plot without title"
      ]
     },
     "metadata": {},
     "output_type": "display_data"
    }
   ],
   "source": [
    "#surival rate on the basis of Sex\n",
    "data %>% ggplot(aes(x = Sex,y = Survived)) + geom_col(aes(fill = Sex))\n",
    "#observation females survial rate was much more than males"
   ]
  },
  {
   "cell_type": "code",
   "execution_count": 5,
   "metadata": {},
   "outputs": [
    {
     "data": {
      "image/png": "[encoded data removed]",
      "text/plain": [
       "plot without title"
      ]
     },
     "metadata": {},
     "output_type": "display_data"
    }
   ],
   "source": [
    "#Pclass corelation with survivours\n",
    "pie_data <- data %>% group_by(Pclass) %>% summarise(Survival_rate = mean(Survived))\n",
    "pie(x = pie_data$Survival_rate, labels = pie_data$Pclass)\n",
    "#Class1 people had more chance of survival, followed by Class2 and then Class3"
   ]
  },
  {
   "cell_type": "code",
   "execution_count": 6,
   "metadata": {},
   "outputs": [
    {
     "name": "stderr",
     "output_type": "stream",
     "text": [
      "Warning message:\n",
      "\"Removed 177 rows containing non-finite values (stat_count).\""
     ]
    },
    {
     "data": {
      "text/html": [
       "<table>\n",
       "<thead><tr><th scope=col>AgeBand</th><th scope=col>Survival_rate</th></tr></thead>\n",
       "<tbody>\n",
       "\t<tr><td>0-20     </td><td>0.4581006</td></tr>\n",
       "\t<tr><td>21-40    </td><td>0.3974026</td></tr>\n",
       "\t<tr><td>41-60    </td><td>0.3906250</td></tr>\n",
       "\t<tr><td>61-80    </td><td>0.2272727</td></tr>\n",
       "\t<tr><td>NA       </td><td>0.2937853</td></tr>\n",
       "</tbody>\n",
       "</table>\n"
      ],
      "text/latex": [
       "\\begin{tabular}{r|ll}\n",
       " AgeBand & Survival\\_rate\\\\\n",
       "\\hline\n",
       "\t 0-20      & 0.4581006\\\\\n",
       "\t 21-40     & 0.3974026\\\\\n",
       "\t 41-60     & 0.3906250\\\\\n",
       "\t 61-80     & 0.2272727\\\\\n",
       "\t NA        & 0.2937853\\\\\n",
       "\\end{tabular}\n"
      ],
      "text/markdown": [
       "\n",
       "| AgeBand | Survival_rate |\n",
       "|---|---|\n",
       "| 0-20      | 0.4581006 |\n",
       "| 21-40     | 0.3974026 |\n",
       "| 41-60     | 0.3906250 |\n",
       "| 61-80     | 0.2272727 |\n",
       "| NA        | 0.2937853 |\n",
       "\n"
      ],
      "text/plain": [
       "  AgeBand Survival_rate\n",
       "1 0-20    0.4581006    \n",
       "2 21-40   0.3974026    \n",
       "3 41-60   0.3906250    \n",
       "4 61-80   0.2272727    \n",
       "5 NA      0.2937853    "
      ]
     },
     "metadata": {},
     "output_type": "display_data"
    },
    {
     "data": {
      "image/png": "[encoded data removed]",
      "text/plain": [
       "plot without title"
      ]
     },
     "metadata": {},
     "output_type": "display_data"
    }
   ],
   "source": [
    "#Age gap of people that traveled \n",
    "data %>% ggplot(aes(Age)) + geom_bar(fill = \"#00bfff\") #we can see maximum number of people from age gap of 20-40 travelled\n",
    "\n",
    "#survival rate on the basis of Ageband\n",
    "data %>% mutate(AgeBand = case_when(Age<=20 ~ '0-20',Age>20 & Age <=40 ~ '21-40', Age>40 & Age <= 60 ~ '41-60',Age > 60 ~ '61-80')) %>% group_by(AgeBand) %>% summarise(Survival_rate = mean(Survived))\n",
    "#0-20 being children have higher tendency of survival\n",
    "#some missing values too, to be taken care of"
   ]
  },
  {
   "cell_type": "code",
   "execution_count": 7,
   "metadata": {},
   "outputs": [
    {
     "name": "stderr",
     "output_type": "stream",
     "text": [
      "Parsed with column specification:\n",
      "cols(\n",
      "  PassengerId = col_double(),\n",
      "  Pclass = col_double(),\n",
      "  Name = col_character(),\n",
      "  Sex = col_character(),\n",
      "  Age = col_double(),\n",
      "  SibSp = col_double(),\n",
      "  Parch = col_double(),\n",
      "  Ticket = col_character(),\n",
      "  Fare = col_double(),\n",
      "  Cabin = col_character(),\n",
      "  Embarked = col_character()\n",
      ")\n"
     ]
    }
   ],
   "source": [
    "#load test data\n",
    "testpath <- file.path('C:\\\\Users\\\\mehul\\\\OneDrive\\\\Desktop\\\\titanic_new_data\\\\final_test.csv')\n",
    "testData <- read_csv(testpath)"
   ]
  },
  {
   "cell_type": "code",
   "execution_count": 8,
   "metadata": {},
   "outputs": [],
   "source": [
    "#Starting data preparation - moving 'survived' column to the right end\n",
    "data <- data %>% select(PassengerId,Pclass:Embarked,Survived)\n",
    "\n",
    "#combining the data to perform same operations on both train and test data\n",
    "combineData <- rbind(data[1:11],testData)"
   ]
  },
  {
   "cell_type": "code",
   "execution_count": 9,
   "metadata": {},
   "outputs": [
    {
     "data": {
      "text/html": [
       "0"
      ],
      "text/latex": [
       "0"
      ],
      "text/markdown": [
       "0"
      ],
      "text/plain": [
       "[1] 0"
      ]
     },
     "metadata": {},
     "output_type": "display_data"
    },
    {
     "data": {
      "text/html": [
       "0"
      ],
      "text/latex": [
       "0"
      ],
      "text/markdown": [
       "0"
      ],
      "text/plain": [
       "[1] 0"
      ]
     },
     "metadata": {},
     "output_type": "display_data"
    }
   ],
   "source": [
    "#taking care of missing values - Age\n",
    "combineData$Age <- if_else(is.na(combineData$Age),round(mean(combineData$Age, na.rm = TRUE),2),combineData$Age) # replacing the missing values with their mean\n",
    "sum(is.na(combineData$Age)) #recheck if there are any missing values\n",
    "\n",
    "#taking care of missing values - Age\n",
    "combineData$Fare <- if_else(is.na(combineData$Fare),round(mean(combineData$Fare, na.rm = TRUE),2),combineData$Fare) # replacing the missing values with their mean\n",
    "sum(is.na(combineData$Fare)) #recheck if there are any missing values"
   ]
  },
  {
   "cell_type": "code",
   "execution_count": 10,
   "metadata": {},
   "outputs": [
    {
     "data": {
      "text/html": [
       "<table>\n",
       "<thead><tr><th scope=col>PassengerId</th><th scope=col>Pclass</th><th scope=col>Name</th><th scope=col>Sex</th><th scope=col>Age</th><th scope=col>SibSp</th><th scope=col>Parch</th><th scope=col>Ticket</th><th scope=col>Fare</th><th scope=col>Cabin</th><th scope=col>Embarked</th><th scope=col>AgeBand</th></tr></thead>\n",
       "<tbody>\n",
       "\t<tr><td> 1                                                 </td><td>3                                                  </td><td>Braund, Mr. Owen Harris                            </td><td>male                                               </td><td>22.00                                              </td><td>1                                                  </td><td>0                                                  </td><td>A/5 21171                                          </td><td> 7.2500                                            </td><td>NA                                                 </td><td>S                                                  </td><td>21-40                                              </td></tr>\n",
       "\t<tr><td> 2                                                 </td><td>1                                                  </td><td>Cumings, Mrs. John Bradley (Florence Briggs Thayer)</td><td>female                                             </td><td>38.00                                              </td><td>1                                                  </td><td>0                                                  </td><td>PC 17599                                           </td><td>71.2833                                            </td><td>C85                                                </td><td>C                                                  </td><td>21-40                                              </td></tr>\n",
       "\t<tr><td> 3                                                 </td><td>3                                                  </td><td>Heikkinen, Miss. Laina                             </td><td>female                                             </td><td>26.00                                              </td><td>0                                                  </td><td>0                                                  </td><td>STON/O2. 3101282                                   </td><td> 7.9250                                            </td><td>NA                                                 </td><td>S                                                  </td><td>21-40                                              </td></tr>\n",
       "\t<tr><td> 4                                                 </td><td>1                                                  </td><td>Futrelle, Mrs. Jacques Heath (Lily May Peel)       </td><td>female                                             </td><td>35.00                                              </td><td>1                                                  </td><td>0                                                  </td><td>113803                                             </td><td>53.1000                                            </td><td>C123                                               </td><td>S                                                  </td><td>21-40                                              </td></tr>\n",
       "\t<tr><td> 5                                                 </td><td>3                                                  </td><td>Allen, Mr. William Henry                           </td><td>male                                               </td><td>35.00                                              </td><td>0                                                  </td><td>0                                                  </td><td>373450                                             </td><td> 8.0500                                            </td><td>NA                                                 </td><td>S                                                  </td><td>21-40                                              </td></tr>\n",
       "\t<tr><td> 6                                                 </td><td>3                                                  </td><td>Moran, Mr. James                                   </td><td>male                                               </td><td>29.88                                              </td><td>0                                                  </td><td>0                                                  </td><td>330877                                             </td><td> 8.4583                                            </td><td>NA                                                 </td><td>Q                                                  </td><td>21-40                                              </td></tr>\n",
       "\t<tr><td> 7                                                 </td><td>1                                                  </td><td>McCarthy, Mr. Timothy J                            </td><td>male                                               </td><td>54.00                                              </td><td>0                                                  </td><td>0                                                  </td><td>17463                                              </td><td>51.8625                                            </td><td>E46                                                </td><td>S                                                  </td><td>41-60                                              </td></tr>\n",
       "\t<tr><td> 8                                                 </td><td>3                                                  </td><td>Palsson, Master. Gosta Leonard                     </td><td>male                                               </td><td> 2.00                                              </td><td>3                                                  </td><td>1                                                  </td><td>349909                                             </td><td>21.0750                                            </td><td>NA                                                 </td><td>S                                                  </td><td>0-20                                               </td></tr>\n",
       "\t<tr><td> 9                                                 </td><td>3                                                  </td><td>Johnson, Mrs. Oscar W (Elisabeth Vilhelmina Berg)  </td><td>female                                             </td><td>27.00                                              </td><td>0                                                  </td><td>2                                                  </td><td>347742                                             </td><td>11.1333                                            </td><td>NA                                                 </td><td>S                                                  </td><td>21-40                                              </td></tr>\n",
       "\t<tr><td>10                                                 </td><td>2                                                  </td><td>Nasser, Mrs. Nicholas (Adele Achem)                </td><td>female                                             </td><td>14.00                                              </td><td>1                                                  </td><td>0                                                  </td><td>237736                                             </td><td>30.0708                                            </td><td>NA                                                 </td><td>C                                                  </td><td>0-20                                               </td></tr>\n",
       "</tbody>\n",
       "</table>\n"
      ],
      "text/latex": [
       "\\begin{tabular}{r|llllllllllll}\n",
       " PassengerId & Pclass & Name & Sex & Age & SibSp & Parch & Ticket & Fare & Cabin & Embarked & AgeBand\\\\\n",
       "\\hline\n",
       "\t  1                                                  & 3                                                   & Braund, Mr. Owen Harris                             & male                                                & 22.00                                               & 1                                                   & 0                                                   & A/5 21171                                           &  7.2500                                             & NA                                                  & S                                                   & 21-40                                              \\\\\n",
       "\t  2                                                  & 1                                                   & Cumings, Mrs. John Bradley (Florence Briggs Thayer) & female                                              & 38.00                                               & 1                                                   & 0                                                   & PC 17599                                            & 71.2833                                             & C85                                                 & C                                                   & 21-40                                              \\\\\n",
       "\t  3                                                  & 3                                                   & Heikkinen, Miss. Laina                              & female                                              & 26.00                                               & 0                                                   & 0                                                   & STON/O2. 3101282                                    &  7.9250                                             & NA                                                  & S                                                   & 21-40                                              \\\\\n",
       "\t  4                                                  & 1                                                   & Futrelle, Mrs. Jacques Heath (Lily May Peel)        & female                                              & 35.00                                               & 1                                                   & 0                                                   & 113803                                              & 53.1000                                             & C123                                                & S                                                   & 21-40                                              \\\\\n",
       "\t  5                                                  & 3                                                   & Allen, Mr. William Henry                            & male                                                & 35.00                                               & 0                                                   & 0                                                   & 373450                                              &  8.0500                                             & NA                                                  & S                                                   & 21-40                                              \\\\\n",
       "\t  6                                                  & 3                                                   & Moran, Mr. James                                    & male                                                & 29.88                                               & 0                                                   & 0                                                   & 330877                                              &  8.4583                                             & NA                                                  & Q                                                   & 21-40                                              \\\\\n",
       "\t  7                                                  & 1                                                   & McCarthy, Mr. Timothy J                             & male                                                & 54.00                                               & 0                                                   & 0                                                   & 17463                                               & 51.8625                                             & E46                                                 & S                                                   & 41-60                                              \\\\\n",
       "\t  8                                                  & 3                                                   & Palsson, Master. Gosta Leonard                      & male                                                &  2.00                                               & 3                                                   & 1                                                   & 349909                                              & 21.0750                                             & NA                                                  & S                                                   & 0-20                                               \\\\\n",
       "\t  9                                                  & 3                                                   & Johnson, Mrs. Oscar W (Elisabeth Vilhelmina Berg)   & female                                              & 27.00                                               & 0                                                   & 2                                                   & 347742                                              & 11.1333                                             & NA                                                  & S                                                   & 21-40                                              \\\\\n",
       "\t 10                                                  & 2                                                   & Nasser, Mrs. Nicholas (Adele Achem)                 & female                                              & 14.00                                               & 1                                                   & 0                                                   & 237736                                              & 30.0708                                             & NA                                                  & C                                                   & 0-20                                               \\\\\n",
       "\\end{tabular}\n"
      ],
      "text/markdown": [
       "\n",
       "| PassengerId | Pclass | Name | Sex | Age | SibSp | Parch | Ticket | Fare | Cabin | Embarked | AgeBand |\n",
       "|---|---|---|---|---|---|---|---|---|---|---|---|\n",
       "|  1                                                  | 3                                                   | Braund, Mr. Owen Harris                             | male                                                | 22.00                                               | 1                                                   | 0                                                   | A/5 21171                                           |  7.2500                                             | NA                                                  | S                                                   | 21-40                                               |\n",
       "|  2                                                  | 1                                                   | Cumings, Mrs. John Bradley (Florence Briggs Thayer) | female                                              | 38.00                                               | 1                                                   | 0                                                   | PC 17599                                            | 71.2833                                             | C85                                                 | C                                                   | 21-40                                               |\n",
       "|  3                                                  | 3                                                   | Heikkinen, Miss. Laina                              | female                                              | 26.00                                               | 0                                                   | 0                                                   | STON/O2. 3101282                                    |  7.9250                                             | NA                                                  | S                                                   | 21-40                                               |\n",
       "|  4                                                  | 1                                                   | Futrelle, Mrs. Jacques Heath (Lily May Peel)        | female                                              | 35.00                                               | 1                                                   | 0                                                   | 113803                                              | 53.1000                                             | C123                                                | S                                                   | 21-40                                               |\n",
       "|  5                                                  | 3                                                   | Allen, Mr. William Henry                            | male                                                | 35.00                                               | 0                                                   | 0                                                   | 373450                                              |  8.0500                                             | NA                                                  | S                                                   | 21-40                                               |\n",
       "|  6                                                  | 3                                                   | Moran, Mr. James                                    | male                                                | 29.88                                               | 0                                                   | 0                                                   | 330877                                              |  8.4583                                             | NA                                                  | Q                                                   | 21-40                                               |\n",
       "|  7                                                  | 1                                                   | McCarthy, Mr. Timothy J                             | male                                                | 54.00                                               | 0                                                   | 0                                                   | 17463                                               | 51.8625                                             | E46                                                 | S                                                   | 41-60                                               |\n",
       "|  8                                                  | 3                                                   | Palsson, Master. Gosta Leonard                      | male                                                |  2.00                                               | 3                                                   | 1                                                   | 349909                                              | 21.0750                                             | NA                                                  | S                                                   | 0-20                                                |\n",
       "|  9                                                  | 3                                                   | Johnson, Mrs. Oscar W (Elisabeth Vilhelmina Berg)   | female                                              | 27.00                                               | 0                                                   | 2                                                   | 347742                                              | 11.1333                                             | NA                                                  | S                                                   | 21-40                                               |\n",
       "| 10                                                  | 2                                                   | Nasser, Mrs. Nicholas (Adele Achem)                 | female                                              | 14.00                                               | 1                                                   | 0                                                   | 237736                                              | 30.0708                                             | NA                                                  | C                                                   | 0-20                                                |\n",
       "\n"
      ],
      "text/plain": [
       "   PassengerId Pclass Name                                               \n",
       "1   1          3      Braund, Mr. Owen Harris                            \n",
       "2   2          1      Cumings, Mrs. John Bradley (Florence Briggs Thayer)\n",
       "3   3          3      Heikkinen, Miss. Laina                             \n",
       "4   4          1      Futrelle, Mrs. Jacques Heath (Lily May Peel)       \n",
       "5   5          3      Allen, Mr. William Henry                           \n",
       "6   6          3      Moran, Mr. James                                   \n",
       "7   7          1      McCarthy, Mr. Timothy J                            \n",
       "8   8          3      Palsson, Master. Gosta Leonard                     \n",
       "9   9          3      Johnson, Mrs. Oscar W (Elisabeth Vilhelmina Berg)  \n",
       "10 10          2      Nasser, Mrs. Nicholas (Adele Achem)                \n",
       "   Sex    Age   SibSp Parch Ticket           Fare    Cabin Embarked AgeBand\n",
       "1  male   22.00 1     0     A/5 21171         7.2500 NA    S        21-40  \n",
       "2  female 38.00 1     0     PC 17599         71.2833 C85   C        21-40  \n",
       "3  female 26.00 0     0     STON/O2. 3101282  7.9250 NA    S        21-40  \n",
       "4  female 35.00 1     0     113803           53.1000 C123  S        21-40  \n",
       "5  male   35.00 0     0     373450            8.0500 NA    S        21-40  \n",
       "6  male   29.88 0     0     330877            8.4583 NA    Q        21-40  \n",
       "7  male   54.00 0     0     17463            51.8625 E46   S        41-60  \n",
       "8  male    2.00 3     1     349909           21.0750 NA    S        0-20   \n",
       "9  female 27.00 0     2     347742           11.1333 NA    S        21-40  \n",
       "10 female 14.00 1     0     237736           30.0708 NA    C        0-20   "
      ]
     },
     "metadata": {},
     "output_type": "display_data"
    },
    {
     "data": {
      "text/html": [
       "<table>\n",
       "<thead><tr><th scope=col>PassengerId</th><th scope=col>Pclass</th><th scope=col>Name</th><th scope=col>Sex</th><th scope=col>Age</th><th scope=col>SibSp</th><th scope=col>Parch</th><th scope=col>Ticket</th><th scope=col>Fare</th><th scope=col>Cabin</th><th scope=col>Embarked</th><th scope=col>0-20</th><th scope=col>21-40</th><th scope=col>41-60</th><th scope=col>61-Max</th></tr></thead>\n",
       "<tbody>\n",
       "\t<tr><td> 1                                                 </td><td>3                                                  </td><td>Braund, Mr. Owen Harris                            </td><td>male                                               </td><td>22.00                                              </td><td>1                                                  </td><td>0                                                  </td><td>A/5 21171                                          </td><td> 7.2500                                            </td><td>NA                                                 </td><td>S                                                  </td><td>NA                                                 </td><td>21-40                                              </td><td>NA                                                 </td><td>NA                                                 </td></tr>\n",
       "\t<tr><td> 2                                                 </td><td>1                                                  </td><td>Cumings, Mrs. John Bradley (Florence Briggs Thayer)</td><td>female                                             </td><td>38.00                                              </td><td>1                                                  </td><td>0                                                  </td><td>PC 17599                                           </td><td>71.2833                                            </td><td>C85                                                </td><td>C                                                  </td><td>NA                                                 </td><td>21-40                                              </td><td>NA                                                 </td><td>NA                                                 </td></tr>\n",
       "\t<tr><td> 3                                                 </td><td>3                                                  </td><td>Heikkinen, Miss. Laina                             </td><td>female                                             </td><td>26.00                                              </td><td>0                                                  </td><td>0                                                  </td><td>STON/O2. 3101282                                   </td><td> 7.9250                                            </td><td>NA                                                 </td><td>S                                                  </td><td>NA                                                 </td><td>21-40                                              </td><td>NA                                                 </td><td>NA                                                 </td></tr>\n",
       "\t<tr><td> 4                                                 </td><td>1                                                  </td><td>Futrelle, Mrs. Jacques Heath (Lily May Peel)       </td><td>female                                             </td><td>35.00                                              </td><td>1                                                  </td><td>0                                                  </td><td>113803                                             </td><td>53.1000                                            </td><td>C123                                               </td><td>S                                                  </td><td>NA                                                 </td><td>21-40                                              </td><td>NA                                                 </td><td>NA                                                 </td></tr>\n",
       "\t<tr><td> 5                                                 </td><td>3                                                  </td><td>Allen, Mr. William Henry                           </td><td>male                                               </td><td>35.00                                              </td><td>0                                                  </td><td>0                                                  </td><td>373450                                             </td><td> 8.0500                                            </td><td>NA                                                 </td><td>S                                                  </td><td>NA                                                 </td><td>21-40                                              </td><td>NA                                                 </td><td>NA                                                 </td></tr>\n",
       "\t<tr><td> 6                                                 </td><td>3                                                  </td><td>Moran, Mr. James                                   </td><td>male                                               </td><td>29.88                                              </td><td>0                                                  </td><td>0                                                  </td><td>330877                                             </td><td> 8.4583                                            </td><td>NA                                                 </td><td>Q                                                  </td><td>NA                                                 </td><td>21-40                                              </td><td>NA                                                 </td><td>NA                                                 </td></tr>\n",
       "\t<tr><td> 7                                                 </td><td>1                                                  </td><td>McCarthy, Mr. Timothy J                            </td><td>male                                               </td><td>54.00                                              </td><td>0                                                  </td><td>0                                                  </td><td>17463                                              </td><td>51.8625                                            </td><td>E46                                                </td><td>S                                                  </td><td>NA                                                 </td><td>NA                                                 </td><td>41-60                                              </td><td>NA                                                 </td></tr>\n",
       "\t<tr><td> 8                                                 </td><td>3                                                  </td><td>Palsson, Master. Gosta Leonard                     </td><td>male                                               </td><td> 2.00                                              </td><td>3                                                  </td><td>1                                                  </td><td>349909                                             </td><td>21.0750                                            </td><td>NA                                                 </td><td>S                                                  </td><td>0-20                                               </td><td>NA                                                 </td><td>NA                                                 </td><td>NA                                                 </td></tr>\n",
       "\t<tr><td> 9                                                 </td><td>3                                                  </td><td>Johnson, Mrs. Oscar W (Elisabeth Vilhelmina Berg)  </td><td>female                                             </td><td>27.00                                              </td><td>0                                                  </td><td>2                                                  </td><td>347742                                             </td><td>11.1333                                            </td><td>NA                                                 </td><td>S                                                  </td><td>NA                                                 </td><td>21-40                                              </td><td>NA                                                 </td><td>NA                                                 </td></tr>\n",
       "\t<tr><td>10                                                 </td><td>2                                                  </td><td>Nasser, Mrs. Nicholas (Adele Achem)                </td><td>female                                             </td><td>14.00                                              </td><td>1                                                  </td><td>0                                                  </td><td>237736                                             </td><td>30.0708                                            </td><td>NA                                                 </td><td>C                                                  </td><td>0-20                                               </td><td>NA                                                 </td><td>NA                                                 </td><td>NA                                                 </td></tr>\n",
       "</tbody>\n",
       "</table>\n"
      ],
      "text/latex": [
       "\\begin{tabular}{r|lllllllllllllll}\n",
       " PassengerId & Pclass & Name & Sex & Age & SibSp & Parch & Ticket & Fare & Cabin & Embarked & 0-20 & 21-40 & 41-60 & 61-Max\\\\\n",
       "\\hline\n",
       "\t  1                                                  & 3                                                   & Braund, Mr. Owen Harris                             & male                                                & 22.00                                               & 1                                                   & 0                                                   & A/5 21171                                           &  7.2500                                             & NA                                                  & S                                                   & NA                                                  & 21-40                                               & NA                                                  & NA                                                 \\\\\n",
       "\t  2                                                  & 1                                                   & Cumings, Mrs. John Bradley (Florence Briggs Thayer) & female                                              & 38.00                                               & 1                                                   & 0                                                   & PC 17599                                            & 71.2833                                             & C85                                                 & C                                                   & NA                                                  & 21-40                                               & NA                                                  & NA                                                 \\\\\n",
       "\t  3                                                  & 3                                                   & Heikkinen, Miss. Laina                              & female                                              & 26.00                                               & 0                                                   & 0                                                   & STON/O2. 3101282                                    &  7.9250                                             & NA                                                  & S                                                   & NA                                                  & 21-40                                               & NA                                                  & NA                                                 \\\\\n",
       "\t  4                                                  & 1                                                   & Futrelle, Mrs. Jacques Heath (Lily May Peel)        & female                                              & 35.00                                               & 1                                                   & 0                                                   & 113803                                              & 53.1000                                             & C123                                                & S                                                   & NA                                                  & 21-40                                               & NA                                                  & NA                                                 \\\\\n",
       "\t  5                                                  & 3                                                   & Allen, Mr. William Henry                            & male                                                & 35.00                                               & 0                                                   & 0                                                   & 373450                                              &  8.0500                                             & NA                                                  & S                                                   & NA                                                  & 21-40                                               & NA                                                  & NA                                                 \\\\\n",
       "\t  6                                                  & 3                                                   & Moran, Mr. James                                    & male                                                & 29.88                                               & 0                                                   & 0                                                   & 330877                                              &  8.4583                                             & NA                                                  & Q                                                   & NA                                                  & 21-40                                               & NA                                                  & NA                                                 \\\\\n",
       "\t  7                                                  & 1                                                   & McCarthy, Mr. Timothy J                             & male                                                & 54.00                                               & 0                                                   & 0                                                   & 17463                                               & 51.8625                                             & E46                                                 & S                                                   & NA                                                  & NA                                                  & 41-60                                               & NA                                                 \\\\\n",
       "\t  8                                                  & 3                                                   & Palsson, Master. Gosta Leonard                      & male                                                &  2.00                                               & 3                                                   & 1                                                   & 349909                                              & 21.0750                                             & NA                                                  & S                                                   & 0-20                                                & NA                                                  & NA                                                  & NA                                                 \\\\\n",
       "\t  9                                                  & 3                                                   & Johnson, Mrs. Oscar W (Elisabeth Vilhelmina Berg)   & female                                              & 27.00                                               & 0                                                   & 2                                                   & 347742                                              & 11.1333                                             & NA                                                  & S                                                   & NA                                                  & 21-40                                               & NA                                                  & NA                                                 \\\\\n",
       "\t 10                                                  & 2                                                   & Nasser, Mrs. Nicholas (Adele Achem)                 & female                                              & 14.00                                               & 1                                                   & 0                                                   & 237736                                              & 30.0708                                             & NA                                                  & C                                                   & 0-20                                                & NA                                                  & NA                                                  & NA                                                 \\\\\n",
       "\\end{tabular}\n"
      ],
      "text/markdown": [
       "\n",
       "| PassengerId | Pclass | Name | Sex | Age | SibSp | Parch | Ticket | Fare | Cabin | Embarked | 0-20 | 21-40 | 41-60 | 61-Max |\n",
       "|---|---|---|---|---|---|---|---|---|---|---|---|---|---|---|\n",
       "|  1                                                  | 3                                                   | Braund, Mr. Owen Harris                             | male                                                | 22.00                                               | 1                                                   | 0                                                   | A/5 21171                                           |  7.2500                                             | NA                                                  | S                                                   | NA                                                  | 21-40                                               | NA                                                  | NA                                                  |\n",
       "|  2                                                  | 1                                                   | Cumings, Mrs. John Bradley (Florence Briggs Thayer) | female                                              | 38.00                                               | 1                                                   | 0                                                   | PC 17599                                            | 71.2833                                             | C85                                                 | C                                                   | NA                                                  | 21-40                                               | NA                                                  | NA                                                  |\n",
       "|  3                                                  | 3                                                   | Heikkinen, Miss. Laina                              | female                                              | 26.00                                               | 0                                                   | 0                                                   | STON/O2. 3101282                                    |  7.9250                                             | NA                                                  | S                                                   | NA                                                  | 21-40                                               | NA                                                  | NA                                                  |\n",
       "|  4                                                  | 1                                                   | Futrelle, Mrs. Jacques Heath (Lily May Peel)        | female                                              | 35.00                                               | 1                                                   | 0                                                   | 113803                                              | 53.1000                                             | C123                                                | S                                                   | NA                                                  | 21-40                                               | NA                                                  | NA                                                  |\n",
       "|  5                                                  | 3                                                   | Allen, Mr. William Henry                            | male                                                | 35.00                                               | 0                                                   | 0                                                   | 373450                                              |  8.0500                                             | NA                                                  | S                                                   | NA                                                  | 21-40                                               | NA                                                  | NA                                                  |\n",
       "|  6                                                  | 3                                                   | Moran, Mr. James                                    | male                                                | 29.88                                               | 0                                                   | 0                                                   | 330877                                              |  8.4583                                             | NA                                                  | Q                                                   | NA                                                  | 21-40                                               | NA                                                  | NA                                                  |\n",
       "|  7                                                  | 1                                                   | McCarthy, Mr. Timothy J                             | male                                                | 54.00                                               | 0                                                   | 0                                                   | 17463                                               | 51.8625                                             | E46                                                 | S                                                   | NA                                                  | NA                                                  | 41-60                                               | NA                                                  |\n",
       "|  8                                                  | 3                                                   | Palsson, Master. Gosta Leonard                      | male                                                |  2.00                                               | 3                                                   | 1                                                   | 349909                                              | 21.0750                                             | NA                                                  | S                                                   | 0-20                                                | NA                                                  | NA                                                  | NA                                                  |\n",
       "|  9                                                  | 3                                                   | Johnson, Mrs. Oscar W (Elisabeth Vilhelmina Berg)   | female                                              | 27.00                                               | 0                                                   | 2                                                   | 347742                                              | 11.1333                                             | NA                                                  | S                                                   | NA                                                  | 21-40                                               | NA                                                  | NA                                                  |\n",
       "| 10                                                  | 2                                                   | Nasser, Mrs. Nicholas (Adele Achem)                 | female                                              | 14.00                                               | 1                                                   | 0                                                   | 237736                                              | 30.0708                                             | NA                                                  | C                                                   | 0-20                                                | NA                                                  | NA                                                  | NA                                                  |\n",
       "\n"
      ],
      "text/plain": [
       "   PassengerId Pclass Name                                               \n",
       "1   1          3      Braund, Mr. Owen Harris                            \n",
       "2   2          1      Cumings, Mrs. John Bradley (Florence Briggs Thayer)\n",
       "3   3          3      Heikkinen, Miss. Laina                             \n",
       "4   4          1      Futrelle, Mrs. Jacques Heath (Lily May Peel)       \n",
       "5   5          3      Allen, Mr. William Henry                           \n",
       "6   6          3      Moran, Mr. James                                   \n",
       "7   7          1      McCarthy, Mr. Timothy J                            \n",
       "8   8          3      Palsson, Master. Gosta Leonard                     \n",
       "9   9          3      Johnson, Mrs. Oscar W (Elisabeth Vilhelmina Berg)  \n",
       "10 10          2      Nasser, Mrs. Nicholas (Adele Achem)                \n",
       "   Sex    Age   SibSp Parch Ticket           Fare    Cabin Embarked 0-20 21-40\n",
       "1  male   22.00 1     0     A/5 21171         7.2500 NA    S        NA   21-40\n",
       "2  female 38.00 1     0     PC 17599         71.2833 C85   C        NA   21-40\n",
       "3  female 26.00 0     0     STON/O2. 3101282  7.9250 NA    S        NA   21-40\n",
       "4  female 35.00 1     0     113803           53.1000 C123  S        NA   21-40\n",
       "5  male   35.00 0     0     373450            8.0500 NA    S        NA   21-40\n",
       "6  male   29.88 0     0     330877            8.4583 NA    Q        NA   21-40\n",
       "7  male   54.00 0     0     17463            51.8625 E46   S        NA   NA   \n",
       "8  male    2.00 3     1     349909           21.0750 NA    S        0-20 NA   \n",
       "9  female 27.00 0     2     347742           11.1333 NA    S        NA   21-40\n",
       "10 female 14.00 1     0     237736           30.0708 NA    C        0-20 NA   \n",
       "   41-60 61-Max\n",
       "1  NA    NA    \n",
       "2  NA    NA    \n",
       "3  NA    NA    \n",
       "4  NA    NA    \n",
       "5  NA    NA    \n",
       "6  NA    NA    \n",
       "7  41-60 NA    \n",
       "8  NA    NA    \n",
       "9  NA    NA    \n",
       "10 NA    NA    "
      ]
     },
     "metadata": {},
     "output_type": "display_data"
    }
   ],
   "source": [
    "#Creating AgeBand\n",
    "combineData <- combineData %>% mutate(AgeBand = case_when(Age<=20 ~ '0-20',Age>20 & Age <=40 ~ '21-40', Age>40 & Age <= 60 ~ '41-60',Age > 60 ~ '61-Max'))\n",
    "head(combineData,10)\n",
    "#Spreading AgeBand into features\n",
    "combineData <- combineData %>% spread(key = AgeBand,value = AgeBand) #values will be represented same as the feature name  \n",
    "head(combineData,10)"
   ]
  },
  {
   "cell_type": "code",
   "execution_count": 11,
   "metadata": {},
   "outputs": [
    {
     "data": {
      "text/html": [
       "<table>\n",
       "<thead><tr><th scope=col>FamilyM</th><th scope=col>Survival_Rate</th></tr></thead>\n",
       "<tbody>\n",
       "\t<tr><td> 0       </td><td>0.3035382</td></tr>\n",
       "\t<tr><td> 1       </td><td>0.5527950</td></tr>\n",
       "\t<tr><td> 2       </td><td>0.5784314</td></tr>\n",
       "\t<tr><td> 3       </td><td>0.7241379</td></tr>\n",
       "\t<tr><td> 4       </td><td>0.2000000</td></tr>\n",
       "\t<tr><td> 5       </td><td>0.1363636</td></tr>\n",
       "\t<tr><td> 6       </td><td>0.3333333</td></tr>\n",
       "\t<tr><td> 7       </td><td>0.0000000</td></tr>\n",
       "\t<tr><td>10       </td><td>0.0000000</td></tr>\n",
       "</tbody>\n",
       "</table>\n"
      ],
      "text/latex": [
       "\\begin{tabular}{r|ll}\n",
       " FamilyM & Survival\\_Rate\\\\\n",
       "\\hline\n",
       "\t  0        & 0.3035382\\\\\n",
       "\t  1        & 0.5527950\\\\\n",
       "\t  2        & 0.5784314\\\\\n",
       "\t  3        & 0.7241379\\\\\n",
       "\t  4        & 0.2000000\\\\\n",
       "\t  5        & 0.1363636\\\\\n",
       "\t  6        & 0.3333333\\\\\n",
       "\t  7        & 0.0000000\\\\\n",
       "\t 10        & 0.0000000\\\\\n",
       "\\end{tabular}\n"
      ],
      "text/markdown": [
       "\n",
       "| FamilyM | Survival_Rate |\n",
       "|---|---|\n",
       "|  0        | 0.3035382 |\n",
       "|  1        | 0.5527950 |\n",
       "|  2        | 0.5784314 |\n",
       "|  3        | 0.7241379 |\n",
       "|  4        | 0.2000000 |\n",
       "|  5        | 0.1363636 |\n",
       "|  6        | 0.3333333 |\n",
       "|  7        | 0.0000000 |\n",
       "| 10        | 0.0000000 |\n",
       "\n"
      ],
      "text/plain": [
       "  FamilyM Survival_Rate\n",
       "1  0      0.3035382    \n",
       "2  1      0.5527950    \n",
       "3  2      0.5784314    \n",
       "4  3      0.7241379    \n",
       "5  4      0.2000000    \n",
       "6  5      0.1363636    \n",
       "7  6      0.3333333    \n",
       "8  7      0.0000000    \n",
       "9 10      0.0000000    "
      ]
     },
     "metadata": {},
     "output_type": "display_data"
    },
    {
     "data": {
      "text/html": [
       "<table>\n",
       "<thead><tr><th scope=col>isAlone</th><th scope=col>n</th></tr></thead>\n",
       "<tbody>\n",
       "\t<tr><td>0  </td><td>519</td></tr>\n",
       "\t<tr><td>1  </td><td>790</td></tr>\n",
       "</tbody>\n",
       "</table>\n"
      ],
      "text/latex": [
       "\\begin{tabular}{r|ll}\n",
       " isAlone & n\\\\\n",
       "\\hline\n",
       "\t 0   & 519\\\\\n",
       "\t 1   & 790\\\\\n",
       "\\end{tabular}\n"
      ],
      "text/markdown": [
       "\n",
       "| isAlone | n |\n",
       "|---|---|\n",
       "| 0   | 519 |\n",
       "| 1   | 790 |\n",
       "\n"
      ],
      "text/plain": [
       "  isAlone n  \n",
       "1 0       519\n",
       "2 1       790"
      ]
     },
     "metadata": {},
     "output_type": "display_data"
    }
   ],
   "source": [
    "#On the basis of Sibling/spouse and parent/child we can come up with a combine feature Family Members\n",
    "data %>% mutate(FamilyM = SibSp+Parch) %>% group_by(FamilyM) %>% summarise(Survival_Rate = mean(Survived)) #viewing the probability of survival\n",
    "\n",
    "#we can also be observe that number of people that travelled alone were very high\n",
    "combineData %>% mutate(isAlone = if_else(SibSp+Parch == 0,1,0)) %>% count(isAlone) \n",
    "\n",
    "#both of the features can play vital role in building model, so adding these new features in dataset\n",
    "combineData <- combineData %>% mutate(isAlone = if_else(SibSp+Parch == 0,1,0)) \n",
    "combineData <- combineData %>% mutate(FamilyM = SibSp+Parch)\n",
    "combineData <- combineData %>% mutate(Familyband = case_when(FamilyM<=3 ~ '0-3',FamilyM>3 ~ '4-Max')) #added FamilyBand\n",
    "\n",
    "#spreading the Band Values\n",
    "combineData <- combineData %>% spread(key = Familyband,value = Familyband)"
   ]
  },
  {
   "cell_type": "code",
   "execution_count": 12,
   "metadata": {},
   "outputs": [
    {
     "data": {
      "text/html": [
       "<table>\n",
       "<thead><tr><th scope=col>PassengerId</th><th scope=col>Pclass</th><th scope=col>Sex</th><th scope=col>Age</th><th scope=col>Fare</th><th scope=col>Embarked</th><th scope=col>0-20</th><th scope=col>21-40</th><th scope=col>41-60</th><th scope=col>61-Max</th><th scope=col>isAlone</th><th scope=col>FamilyM</th><th scope=col>0-3</th><th scope=col>4-Max</th></tr></thead>\n",
       "<tbody>\n",
       "\t<tr><td>1      </td><td>3      </td><td>male   </td><td>22.00  </td><td> 7.2500</td><td>S      </td><td>NA     </td><td>21-40  </td><td>NA     </td><td>NA     </td><td>0      </td><td>1      </td><td>0-3    </td><td>NA     </td></tr>\n",
       "\t<tr><td>2      </td><td>1      </td><td>female </td><td>38.00  </td><td>71.2833</td><td>C      </td><td>NA     </td><td>21-40  </td><td>NA     </td><td>NA     </td><td>0      </td><td>1      </td><td>0-3    </td><td>NA     </td></tr>\n",
       "\t<tr><td>3      </td><td>3      </td><td>female </td><td>26.00  </td><td> 7.9250</td><td>S      </td><td>NA     </td><td>21-40  </td><td>NA     </td><td>NA     </td><td>1      </td><td>0      </td><td>0-3    </td><td>NA     </td></tr>\n",
       "\t<tr><td>4      </td><td>1      </td><td>female </td><td>35.00  </td><td>53.1000</td><td>S      </td><td>NA     </td><td>21-40  </td><td>NA     </td><td>NA     </td><td>0      </td><td>1      </td><td>0-3    </td><td>NA     </td></tr>\n",
       "\t<tr><td>5      </td><td>3      </td><td>male   </td><td>35.00  </td><td> 8.0500</td><td>S      </td><td>NA     </td><td>21-40  </td><td>NA     </td><td>NA     </td><td>1      </td><td>0      </td><td>0-3    </td><td>NA     </td></tr>\n",
       "\t<tr><td>6      </td><td>3      </td><td>male   </td><td>29.88  </td><td> 8.4583</td><td>Q      </td><td>NA     </td><td>21-40  </td><td>NA     </td><td>NA     </td><td>1      </td><td>0      </td><td>0-3    </td><td>NA     </td></tr>\n",
       "</tbody>\n",
       "</table>\n"
      ],
      "text/latex": [
       "\\begin{tabular}{r|llllllllllllll}\n",
       " PassengerId & Pclass & Sex & Age & Fare & Embarked & 0-20 & 21-40 & 41-60 & 61-Max & isAlone & FamilyM & 0-3 & 4-Max\\\\\n",
       "\\hline\n",
       "\t 1       & 3       & male    & 22.00   &  7.2500 & S       & NA      & 21-40   & NA      & NA      & 0       & 1       & 0-3     & NA     \\\\\n",
       "\t 2       & 1       & female  & 38.00   & 71.2833 & C       & NA      & 21-40   & NA      & NA      & 0       & 1       & 0-3     & NA     \\\\\n",
       "\t 3       & 3       & female  & 26.00   &  7.9250 & S       & NA      & 21-40   & NA      & NA      & 1       & 0       & 0-3     & NA     \\\\\n",
       "\t 4       & 1       & female  & 35.00   & 53.1000 & S       & NA      & 21-40   & NA      & NA      & 0       & 1       & 0-3     & NA     \\\\\n",
       "\t 5       & 3       & male    & 35.00   &  8.0500 & S       & NA      & 21-40   & NA      & NA      & 1       & 0       & 0-3     & NA     \\\\\n",
       "\t 6       & 3       & male    & 29.88   &  8.4583 & Q       & NA      & 21-40   & NA      & NA      & 1       & 0       & 0-3     & NA     \\\\\n",
       "\\end{tabular}\n"
      ],
      "text/markdown": [
       "\n",
       "| PassengerId | Pclass | Sex | Age | Fare | Embarked | 0-20 | 21-40 | 41-60 | 61-Max | isAlone | FamilyM | 0-3 | 4-Max |\n",
       "|---|---|---|---|---|---|---|---|---|---|---|---|---|---|\n",
       "| 1       | 3       | male    | 22.00   |  7.2500 | S       | NA      | 21-40   | NA      | NA      | 0       | 1       | 0-3     | NA      |\n",
       "| 2       | 1       | female  | 38.00   | 71.2833 | C       | NA      | 21-40   | NA      | NA      | 0       | 1       | 0-3     | NA      |\n",
       "| 3       | 3       | female  | 26.00   |  7.9250 | S       | NA      | 21-40   | NA      | NA      | 1       | 0       | 0-3     | NA      |\n",
       "| 4       | 1       | female  | 35.00   | 53.1000 | S       | NA      | 21-40   | NA      | NA      | 0       | 1       | 0-3     | NA      |\n",
       "| 5       | 3       | male    | 35.00   |  8.0500 | S       | NA      | 21-40   | NA      | NA      | 1       | 0       | 0-3     | NA      |\n",
       "| 6       | 3       | male    | 29.88   |  8.4583 | Q       | NA      | 21-40   | NA      | NA      | 1       | 0       | 0-3     | NA      |\n",
       "\n"
      ],
      "text/plain": [
       "  PassengerId Pclass Sex    Age   Fare    Embarked 0-20 21-40 41-60 61-Max\n",
       "1 1           3      male   22.00  7.2500 S        NA   21-40 NA    NA    \n",
       "2 2           1      female 38.00 71.2833 C        NA   21-40 NA    NA    \n",
       "3 3           3      female 26.00  7.9250 S        NA   21-40 NA    NA    \n",
       "4 4           1      female 35.00 53.1000 S        NA   21-40 NA    NA    \n",
       "5 5           3      male   35.00  8.0500 S        NA   21-40 NA    NA    \n",
       "6 6           3      male   29.88  8.4583 Q        NA   21-40 NA    NA    \n",
       "  isAlone FamilyM 0-3 4-Max\n",
       "1 0       1       0-3 NA   \n",
       "2 0       1       0-3 NA   \n",
       "3 1       0       0-3 NA   \n",
       "4 0       1       0-3 NA   \n",
       "5 1       0       0-3 NA   \n",
       "6 1       0       0-3 NA   "
      ]
     },
     "metadata": {},
     "output_type": "display_data"
    }
   ],
   "source": [
    "#Few feaures that will be removed from the dataset\n",
    "combineData <- combineData %>% select(-Name,-SibSp,-Parch,-Cabin,-Ticket) #Name and ticket donot make sense for survival rate, Cabin has lots of null value and SibSp/Parch are already considered as joined FamilyM feature\n",
    "#we will not be including them in are model\n",
    "head(combineData)"
   ]
  },
  {
   "cell_type": "code",
   "execution_count": 13,
   "metadata": {},
   "outputs": [
    {
     "data": {
      "text/html": [
       "<table>\n",
       "<thead><tr><th scope=col>Embarked</th><th scope=col>Survival_Rate</th></tr></thead>\n",
       "<tbody>\n",
       "\t<tr><td>C        </td><td>0.5535714</td></tr>\n",
       "\t<tr><td>Q        </td><td>0.3896104</td></tr>\n",
       "\t<tr><td>S        </td><td>0.3369565</td></tr>\n",
       "\t<tr><td>NA       </td><td>1.0000000</td></tr>\n",
       "</tbody>\n",
       "</table>\n"
      ],
      "text/latex": [
       "\\begin{tabular}{r|ll}\n",
       " Embarked & Survival\\_Rate\\\\\n",
       "\\hline\n",
       "\t C         & 0.5535714\\\\\n",
       "\t Q         & 0.3896104\\\\\n",
       "\t S         & 0.3369565\\\\\n",
       "\t NA        & 1.0000000\\\\\n",
       "\\end{tabular}\n"
      ],
      "text/markdown": [
       "\n",
       "| Embarked | Survival_Rate |\n",
       "|---|---|\n",
       "| C         | 0.5535714 |\n",
       "| Q         | 0.3896104 |\n",
       "| S         | 0.3369565 |\n",
       "| NA        | 1.0000000 |\n",
       "\n"
      ],
      "text/plain": [
       "  Embarked Survival_Rate\n",
       "1 C        0.5535714    \n",
       "2 Q        0.3896104    \n",
       "3 S        0.3369565    \n",
       "4 NA       1.0000000    "
      ]
     },
     "metadata": {},
     "output_type": "display_data"
    },
    {
     "data": {
      "text/html": [
       "<table>\n",
       "<thead><tr><th scope=col>Embarked</th><th scope=col>n</th></tr></thead>\n",
       "<tbody>\n",
       "\t<tr><td>S  </td><td>914</td></tr>\n",
       "\t<tr><td>C  </td><td>270</td></tr>\n",
       "\t<tr><td>Q  </td><td>123</td></tr>\n",
       "\t<tr><td>NA </td><td>  2</td></tr>\n",
       "</tbody>\n",
       "</table>\n"
      ],
      "text/latex": [
       "\\begin{tabular}{r|ll}\n",
       " Embarked & n\\\\\n",
       "\\hline\n",
       "\t S   & 914\\\\\n",
       "\t C   & 270\\\\\n",
       "\t Q   & 123\\\\\n",
       "\t NA  &   2\\\\\n",
       "\\end{tabular}\n"
      ],
      "text/markdown": [
       "\n",
       "| Embarked | n |\n",
       "|---|---|\n",
       "| S   | 914 |\n",
       "| C   | 270 |\n",
       "| Q   | 123 |\n",
       "| NA  |   2 |\n",
       "\n"
      ],
      "text/plain": [
       "  Embarked n  \n",
       "1 S        914\n",
       "2 C        270\n",
       "3 Q        123\n",
       "4 NA         2"
      ]
     },
     "metadata": {},
     "output_type": "display_data"
    },
    {
     "data": {
      "text/html": [
       "<table>\n",
       "<thead><tr><th scope=col>PassengerId</th><th scope=col>Pclass</th><th scope=col>Sex</th><th scope=col>Age</th><th scope=col>Fare</th><th scope=col>0-20</th><th scope=col>21-40</th><th scope=col>41-60</th><th scope=col>61-Max</th><th scope=col>isAlone</th><th scope=col>FamilyM</th><th scope=col>0-3</th><th scope=col>4-Max</th><th scope=col>C</th><th scope=col>Q</th><th scope=col>S</th></tr></thead>\n",
       "<tbody>\n",
       "\t<tr><td>1      </td><td>3      </td><td>male   </td><td>22.00  </td><td> 7.2500</td><td>NA     </td><td>21-40  </td><td>NA     </td><td>NA     </td><td>0      </td><td>1      </td><td>0-3    </td><td>NA     </td><td>NA     </td><td>NA     </td><td>S      </td></tr>\n",
       "\t<tr><td>2      </td><td>1      </td><td>female </td><td>38.00  </td><td>71.2833</td><td>NA     </td><td>21-40  </td><td>NA     </td><td>NA     </td><td>0      </td><td>1      </td><td>0-3    </td><td>NA     </td><td>C      </td><td>NA     </td><td>NA     </td></tr>\n",
       "\t<tr><td>3      </td><td>3      </td><td>female </td><td>26.00  </td><td> 7.9250</td><td>NA     </td><td>21-40  </td><td>NA     </td><td>NA     </td><td>1      </td><td>0      </td><td>0-3    </td><td>NA     </td><td>NA     </td><td>NA     </td><td>S      </td></tr>\n",
       "\t<tr><td>4      </td><td>1      </td><td>female </td><td>35.00  </td><td>53.1000</td><td>NA     </td><td>21-40  </td><td>NA     </td><td>NA     </td><td>0      </td><td>1      </td><td>0-3    </td><td>NA     </td><td>NA     </td><td>NA     </td><td>S      </td></tr>\n",
       "\t<tr><td>5      </td><td>3      </td><td>male   </td><td>35.00  </td><td> 8.0500</td><td>NA     </td><td>21-40  </td><td>NA     </td><td>NA     </td><td>1      </td><td>0      </td><td>0-3    </td><td>NA     </td><td>NA     </td><td>NA     </td><td>S      </td></tr>\n",
       "\t<tr><td>6      </td><td>3      </td><td>male   </td><td>29.88  </td><td> 8.4583</td><td>NA     </td><td>21-40  </td><td>NA     </td><td>NA     </td><td>1      </td><td>0      </td><td>0-3    </td><td>NA     </td><td>NA     </td><td>Q      </td><td>NA     </td></tr>\n",
       "</tbody>\n",
       "</table>\n"
      ],
      "text/latex": [
       "\\begin{tabular}{r|llllllllllllllll}\n",
       " PassengerId & Pclass & Sex & Age & Fare & 0-20 & 21-40 & 41-60 & 61-Max & isAlone & FamilyM & 0-3 & 4-Max & C & Q & S\\\\\n",
       "\\hline\n",
       "\t 1       & 3       & male    & 22.00   &  7.2500 & NA      & 21-40   & NA      & NA      & 0       & 1       & 0-3     & NA      & NA      & NA      & S      \\\\\n",
       "\t 2       & 1       & female  & 38.00   & 71.2833 & NA      & 21-40   & NA      & NA      & 0       & 1       & 0-3     & NA      & C       & NA      & NA     \\\\\n",
       "\t 3       & 3       & female  & 26.00   &  7.9250 & NA      & 21-40   & NA      & NA      & 1       & 0       & 0-3     & NA      & NA      & NA      & S      \\\\\n",
       "\t 4       & 1       & female  & 35.00   & 53.1000 & NA      & 21-40   & NA      & NA      & 0       & 1       & 0-3     & NA      & NA      & NA      & S      \\\\\n",
       "\t 5       & 3       & male    & 35.00   &  8.0500 & NA      & 21-40   & NA      & NA      & 1       & 0       & 0-3     & NA      & NA      & NA      & S      \\\\\n",
       "\t 6       & 3       & male    & 29.88   &  8.4583 & NA      & 21-40   & NA      & NA      & 1       & 0       & 0-3     & NA      & NA      & Q       & NA     \\\\\n",
       "\\end{tabular}\n"
      ],
      "text/markdown": [
       "\n",
       "| PassengerId | Pclass | Sex | Age | Fare | 0-20 | 21-40 | 41-60 | 61-Max | isAlone | FamilyM | 0-3 | 4-Max | C | Q | S |\n",
       "|---|---|---|---|---|---|---|---|---|---|---|---|---|---|---|---|\n",
       "| 1       | 3       | male    | 22.00   |  7.2500 | NA      | 21-40   | NA      | NA      | 0       | 1       | 0-3     | NA      | NA      | NA      | S       |\n",
       "| 2       | 1       | female  | 38.00   | 71.2833 | NA      | 21-40   | NA      | NA      | 0       | 1       | 0-3     | NA      | C       | NA      | NA      |\n",
       "| 3       | 3       | female  | 26.00   |  7.9250 | NA      | 21-40   | NA      | NA      | 1       | 0       | 0-3     | NA      | NA      | NA      | S       |\n",
       "| 4       | 1       | female  | 35.00   | 53.1000 | NA      | 21-40   | NA      | NA      | 0       | 1       | 0-3     | NA      | NA      | NA      | S       |\n",
       "| 5       | 3       | male    | 35.00   |  8.0500 | NA      | 21-40   | NA      | NA      | 1       | 0       | 0-3     | NA      | NA      | NA      | S       |\n",
       "| 6       | 3       | male    | 29.88   |  8.4583 | NA      | 21-40   | NA      | NA      | 1       | 0       | 0-3     | NA      | NA      | Q       | NA      |\n",
       "\n"
      ],
      "text/plain": [
       "  PassengerId Pclass Sex    Age   Fare    0-20 21-40 41-60 61-Max isAlone\n",
       "1 1           3      male   22.00  7.2500 NA   21-40 NA    NA     0      \n",
       "2 2           1      female 38.00 71.2833 NA   21-40 NA    NA     0      \n",
       "3 3           3      female 26.00  7.9250 NA   21-40 NA    NA     1      \n",
       "4 4           1      female 35.00 53.1000 NA   21-40 NA    NA     0      \n",
       "5 5           3      male   35.00  8.0500 NA   21-40 NA    NA     1      \n",
       "6 6           3      male   29.88  8.4583 NA   21-40 NA    NA     1      \n",
       "  FamilyM 0-3 4-Max C  Q  S \n",
       "1 1       0-3 NA    NA NA S \n",
       "2 1       0-3 NA    C  NA NA\n",
       "3 0       0-3 NA    NA NA S \n",
       "4 1       0-3 NA    NA NA S \n",
       "5 0       0-3 NA    NA NA S \n",
       "6 0       0-3 NA    NA Q  NA"
      ]
     },
     "metadata": {},
     "output_type": "display_data"
    }
   ],
   "source": [
    "#Analysing survival rate on the basis of Embarkation\n",
    "data %>% group_by(Embarked) %>% summarise(Survival_Rate = mean(Survived)) #found some na values, will be dealt with\n",
    "\n",
    "#max Embarked port\n",
    "combineData %>% count(Embarked) %>% arrange(desc(n)) # as shown 'S' is the mode value for the feature\n",
    "\n",
    "#replacing missing value of Embarked\n",
    "combineData$Embarked <- if_else(condition = is.na(combineData$Embarked),'S',combineData$Embarked)\n",
    "\n",
    "#spreading the feature Embarked\n",
    "combineData <- spread(combineData,key = Embarked,value = Embarked)\n",
    "head(combineData)"
   ]
  },
  {
   "cell_type": "code",
   "execution_count": 14,
   "metadata": {},
   "outputs": [
    {
     "name": "stderr",
     "output_type": "stream",
     "text": [
      "`stat_bin()` using `bins = 30`. Pick better value with `binwidth`.\n"
     ]
    },
    {
     "data": {
      "text/html": [
       "<table>\n",
       "<thead><tr><th scope=col>PassengerId</th><th scope=col>Pclass</th><th scope=col>Sex</th><th scope=col>Age</th><th scope=col>Fare</th><th scope=col>0-20</th><th scope=col>21-40</th><th scope=col>41-60</th><th scope=col>61-Max</th><th scope=col>isAlone</th><th scope=col>FamilyM</th><th scope=col>0-3</th><th scope=col>4-Max</th><th scope=col>C</th><th scope=col>Q</th><th scope=col>S</th><th scope=col>0-32</th><th scope=col>100-Max</th><th scope=col>32-100</th></tr></thead>\n",
       "<tbody>\n",
       "\t<tr><td>1      </td><td>3      </td><td>male   </td><td>22.00  </td><td> 7.2500</td><td>NA     </td><td>21-40  </td><td>NA     </td><td>NA     </td><td>0      </td><td>1      </td><td>0-3    </td><td>NA     </td><td>NA     </td><td>NA     </td><td>S      </td><td>0-32   </td><td>NA     </td><td>NA     </td></tr>\n",
       "\t<tr><td>2      </td><td>1      </td><td>female </td><td>38.00  </td><td>71.2833</td><td>NA     </td><td>21-40  </td><td>NA     </td><td>NA     </td><td>0      </td><td>1      </td><td>0-3    </td><td>NA     </td><td>C      </td><td>NA     </td><td>NA     </td><td>NA     </td><td>NA     </td><td>32-100 </td></tr>\n",
       "\t<tr><td>3      </td><td>3      </td><td>female </td><td>26.00  </td><td> 7.9250</td><td>NA     </td><td>21-40  </td><td>NA     </td><td>NA     </td><td>1      </td><td>0      </td><td>0-3    </td><td>NA     </td><td>NA     </td><td>NA     </td><td>S      </td><td>0-32   </td><td>NA     </td><td>NA     </td></tr>\n",
       "\t<tr><td>4      </td><td>1      </td><td>female </td><td>35.00  </td><td>53.1000</td><td>NA     </td><td>21-40  </td><td>NA     </td><td>NA     </td><td>0      </td><td>1      </td><td>0-3    </td><td>NA     </td><td>NA     </td><td>NA     </td><td>S      </td><td>NA     </td><td>NA     </td><td>32-100 </td></tr>\n",
       "\t<tr><td>5      </td><td>3      </td><td>male   </td><td>35.00  </td><td> 8.0500</td><td>NA     </td><td>21-40  </td><td>NA     </td><td>NA     </td><td>1      </td><td>0      </td><td>0-3    </td><td>NA     </td><td>NA     </td><td>NA     </td><td>S      </td><td>0-32   </td><td>NA     </td><td>NA     </td></tr>\n",
       "\t<tr><td>6      </td><td>3      </td><td>male   </td><td>29.88  </td><td> 8.4583</td><td>NA     </td><td>21-40  </td><td>NA     </td><td>NA     </td><td>1      </td><td>0      </td><td>0-3    </td><td>NA     </td><td>NA     </td><td>Q      </td><td>NA     </td><td>0-32   </td><td>NA     </td><td>NA     </td></tr>\n",
       "</tbody>\n",
       "</table>\n"
      ],
      "text/latex": [
       "\\begin{tabular}{r|lllllllllllllllllll}\n",
       " PassengerId & Pclass & Sex & Age & Fare & 0-20 & 21-40 & 41-60 & 61-Max & isAlone & FamilyM & 0-3 & 4-Max & C & Q & S & 0-32 & 100-Max & 32-100\\\\\n",
       "\\hline\n",
       "\t 1       & 3       & male    & 22.00   &  7.2500 & NA      & 21-40   & NA      & NA      & 0       & 1       & 0-3     & NA      & NA      & NA      & S       & 0-32    & NA      & NA     \\\\\n",
       "\t 2       & 1       & female  & 38.00   & 71.2833 & NA      & 21-40   & NA      & NA      & 0       & 1       & 0-3     & NA      & C       & NA      & NA      & NA      & NA      & 32-100 \\\\\n",
       "\t 3       & 3       & female  & 26.00   &  7.9250 & NA      & 21-40   & NA      & NA      & 1       & 0       & 0-3     & NA      & NA      & NA      & S       & 0-32    & NA      & NA     \\\\\n",
       "\t 4       & 1       & female  & 35.00   & 53.1000 & NA      & 21-40   & NA      & NA      & 0       & 1       & 0-3     & NA      & NA      & NA      & S       & NA      & NA      & 32-100 \\\\\n",
       "\t 5       & 3       & male    & 35.00   &  8.0500 & NA      & 21-40   & NA      & NA      & 1       & 0       & 0-3     & NA      & NA      & NA      & S       & 0-32    & NA      & NA     \\\\\n",
       "\t 6       & 3       & male    & 29.88   &  8.4583 & NA      & 21-40   & NA      & NA      & 1       & 0       & 0-3     & NA      & NA      & Q       & NA      & 0-32    & NA      & NA     \\\\\n",
       "\\end{tabular}\n"
      ],
      "text/markdown": [
       "\n",
       "| PassengerId | Pclass | Sex | Age | Fare | 0-20 | 21-40 | 41-60 | 61-Max | isAlone | FamilyM | 0-3 | 4-Max | C | Q | S | 0-32 | 100-Max | 32-100 |\n",
       "|---|---|---|---|---|---|---|---|---|---|---|---|---|---|---|---|---|---|---|\n",
       "| 1       | 3       | male    | 22.00   |  7.2500 | NA      | 21-40   | NA      | NA      | 0       | 1       | 0-3     | NA      | NA      | NA      | S       | 0-32    | NA      | NA      |\n",
       "| 2       | 1       | female  | 38.00   | 71.2833 | NA      | 21-40   | NA      | NA      | 0       | 1       | 0-3     | NA      | C       | NA      | NA      | NA      | NA      | 32-100  |\n",
       "| 3       | 3       | female  | 26.00   |  7.9250 | NA      | 21-40   | NA      | NA      | 1       | 0       | 0-3     | NA      | NA      | NA      | S       | 0-32    | NA      | NA      |\n",
       "| 4       | 1       | female  | 35.00   | 53.1000 | NA      | 21-40   | NA      | NA      | 0       | 1       | 0-3     | NA      | NA      | NA      | S       | NA      | NA      | 32-100  |\n",
       "| 5       | 3       | male    | 35.00   |  8.0500 | NA      | 21-40   | NA      | NA      | 1       | 0       | 0-3     | NA      | NA      | NA      | S       | 0-32    | NA      | NA      |\n",
       "| 6       | 3       | male    | 29.88   |  8.4583 | NA      | 21-40   | NA      | NA      | 1       | 0       | 0-3     | NA      | NA      | Q       | NA      | 0-32    | NA      | NA      |\n",
       "\n"
      ],
      "text/plain": [
       "  PassengerId Pclass Sex    Age   Fare    0-20 21-40 41-60 61-Max isAlone\n",
       "1 1           3      male   22.00  7.2500 NA   21-40 NA    NA     0      \n",
       "2 2           1      female 38.00 71.2833 NA   21-40 NA    NA     0      \n",
       "3 3           3      female 26.00  7.9250 NA   21-40 NA    NA     1      \n",
       "4 4           1      female 35.00 53.1000 NA   21-40 NA    NA     0      \n",
       "5 5           3      male   35.00  8.0500 NA   21-40 NA    NA     1      \n",
       "6 6           3      male   29.88  8.4583 NA   21-40 NA    NA     1      \n",
       "  FamilyM 0-3 4-Max C  Q  S  0-32 100-Max 32-100\n",
       "1 1       0-3 NA    NA NA S  0-32 NA      NA    \n",
       "2 1       0-3 NA    C  NA NA NA   NA      32-100\n",
       "3 0       0-3 NA    NA NA S  0-32 NA      NA    \n",
       "4 1       0-3 NA    NA NA S  NA   NA      32-100\n",
       "5 0       0-3 NA    NA NA S  0-32 NA      NA    \n",
       "6 0       0-3 NA    NA Q  NA 0-32 NA      NA    "
      ]
     },
     "metadata": {},
     "output_type": "display_data"
    },
    {
     "data": {
      "image/png": "[encoded data removed]",
      "text/plain": [
       "plot without title"
      ]
     },
     "metadata": {},
     "output_type": "display_data"
    }
   ],
   "source": [
    "#Analysing Fare values with survival rate\n",
    "data %>% ggplot(aes(x = Fare)) + geom_histogram(aes(fill = Survived)) + facet_grid(~Survived) #many people with less fare value\n",
    "#less fare value less survival rate too\n",
    "\n",
    "#creating FareBand\n",
    "combineData <- combineData %>% mutate(Fareband = case_when(Fare<=32 ~ '0-32',Fare>32&Fare<=100 ~ '32-100',Fare>100 ~ '100-Max'))\n",
    "\n",
    "#spreading FareBand\n",
    "combineData <- combineData %>% spread(key = Fareband,value = Fareband)\n",
    "head(combineData)"
   ]
  },
  {
   "cell_type": "code",
   "execution_count": 15,
   "metadata": {},
   "outputs": [
    {
     "data": {
      "text/html": [
       "<table>\n",
       "<thead><tr><th scope=col>PassengerId</th><th scope=col>Sex</th><th scope=col>Age</th><th scope=col>Fare</th><th scope=col>0-20</th><th scope=col>21-40</th><th scope=col>41-60</th><th scope=col>61-Max</th><th scope=col>isAlone</th><th scope=col>FamilyM</th><th scope=col>...</th><th scope=col>4-Max</th><th scope=col>C</th><th scope=col>Q</th><th scope=col>S</th><th scope=col>0-32</th><th scope=col>100-Max</th><th scope=col>32-100</th><th scope=col>1</th><th scope=col>2</th><th scope=col>3</th></tr></thead>\n",
       "<tbody>\n",
       "\t<tr><td>1      </td><td>male   </td><td>22.00  </td><td> 7.2500</td><td>NA     </td><td>21-40  </td><td>NA     </td><td>NA     </td><td>0      </td><td>1      </td><td>...    </td><td>NA     </td><td>NA     </td><td>NA     </td><td>S      </td><td>0-32   </td><td>NA     </td><td>NA     </td><td>NA     </td><td>NA     </td><td> 3     </td></tr>\n",
       "\t<tr><td>2      </td><td>female </td><td>38.00  </td><td>71.2833</td><td>NA     </td><td>21-40  </td><td>NA     </td><td>NA     </td><td>0      </td><td>1      </td><td>...    </td><td>NA     </td><td>C      </td><td>NA     </td><td>NA     </td><td>NA     </td><td>NA     </td><td>32-100 </td><td> 1     </td><td>NA     </td><td>NA     </td></tr>\n",
       "\t<tr><td>3      </td><td>female </td><td>26.00  </td><td> 7.9250</td><td>NA     </td><td>21-40  </td><td>NA     </td><td>NA     </td><td>1      </td><td>0      </td><td>...    </td><td>NA     </td><td>NA     </td><td>NA     </td><td>S      </td><td>0-32   </td><td>NA     </td><td>NA     </td><td>NA     </td><td>NA     </td><td> 3     </td></tr>\n",
       "\t<tr><td>4      </td><td>female </td><td>35.00  </td><td>53.1000</td><td>NA     </td><td>21-40  </td><td>NA     </td><td>NA     </td><td>0      </td><td>1      </td><td>...    </td><td>NA     </td><td>NA     </td><td>NA     </td><td>S      </td><td>NA     </td><td>NA     </td><td>32-100 </td><td> 1     </td><td>NA     </td><td>NA     </td></tr>\n",
       "\t<tr><td>5      </td><td>male   </td><td>35.00  </td><td> 8.0500</td><td>NA     </td><td>21-40  </td><td>NA     </td><td>NA     </td><td>1      </td><td>0      </td><td>...    </td><td>NA     </td><td>NA     </td><td>NA     </td><td>S      </td><td>0-32   </td><td>NA     </td><td>NA     </td><td>NA     </td><td>NA     </td><td> 3     </td></tr>\n",
       "\t<tr><td>6      </td><td>male   </td><td>29.88  </td><td> 8.4583</td><td>NA     </td><td>21-40  </td><td>NA     </td><td>NA     </td><td>1      </td><td>0      </td><td>...    </td><td>NA     </td><td>NA     </td><td>Q      </td><td>NA     </td><td>0-32   </td><td>NA     </td><td>NA     </td><td>NA     </td><td>NA     </td><td> 3     </td></tr>\n",
       "</tbody>\n",
       "</table>\n"
      ],
      "text/latex": [
       "\\begin{tabular}{r|lllllllllllllllllllll}\n",
       " PassengerId & Sex & Age & Fare & 0-20 & 21-40 & 41-60 & 61-Max & isAlone & FamilyM & ... & 4-Max & C & Q & S & 0-32 & 100-Max & 32-100 & 1 & 2 & 3\\\\\n",
       "\\hline\n",
       "\t 1       & male    & 22.00   &  7.2500 & NA      & 21-40   & NA      & NA      & 0       & 1       & ...     & NA      & NA      & NA      & S       & 0-32    & NA      & NA      & NA      & NA      &  3     \\\\\n",
       "\t 2       & female  & 38.00   & 71.2833 & NA      & 21-40   & NA      & NA      & 0       & 1       & ...     & NA      & C       & NA      & NA      & NA      & NA      & 32-100  &  1      & NA      & NA     \\\\\n",
       "\t 3       & female  & 26.00   &  7.9250 & NA      & 21-40   & NA      & NA      & 1       & 0       & ...     & NA      & NA      & NA      & S       & 0-32    & NA      & NA      & NA      & NA      &  3     \\\\\n",
       "\t 4       & female  & 35.00   & 53.1000 & NA      & 21-40   & NA      & NA      & 0       & 1       & ...     & NA      & NA      & NA      & S       & NA      & NA      & 32-100  &  1      & NA      & NA     \\\\\n",
       "\t 5       & male    & 35.00   &  8.0500 & NA      & 21-40   & NA      & NA      & 1       & 0       & ...     & NA      & NA      & NA      & S       & 0-32    & NA      & NA      & NA      & NA      &  3     \\\\\n",
       "\t 6       & male    & 29.88   &  8.4583 & NA      & 21-40   & NA      & NA      & 1       & 0       & ...     & NA      & NA      & Q       & NA      & 0-32    & NA      & NA      & NA      & NA      &  3     \\\\\n",
       "\\end{tabular}\n"
      ],
      "text/markdown": [
       "\n",
       "| PassengerId | Sex | Age | Fare | 0-20 | 21-40 | 41-60 | 61-Max | isAlone | FamilyM | ... | 4-Max | C | Q | S | 0-32 | 100-Max | 32-100 | 1 | 2 | 3 |\n",
       "|---|---|---|---|---|---|---|---|---|---|---|---|---|---|---|---|---|---|---|---|---|\n",
       "| 1       | male    | 22.00   |  7.2500 | NA      | 21-40   | NA      | NA      | 0       | 1       | ...     | NA      | NA      | NA      | S       | 0-32    | NA      | NA      | NA      | NA      |  3      |\n",
       "| 2       | female  | 38.00   | 71.2833 | NA      | 21-40   | NA      | NA      | 0       | 1       | ...     | NA      | C       | NA      | NA      | NA      | NA      | 32-100  |  1      | NA      | NA      |\n",
       "| 3       | female  | 26.00   |  7.9250 | NA      | 21-40   | NA      | NA      | 1       | 0       | ...     | NA      | NA      | NA      | S       | 0-32    | NA      | NA      | NA      | NA      |  3      |\n",
       "| 4       | female  | 35.00   | 53.1000 | NA      | 21-40   | NA      | NA      | 0       | 1       | ...     | NA      | NA      | NA      | S       | NA      | NA      | 32-100  |  1      | NA      | NA      |\n",
       "| 5       | male    | 35.00   |  8.0500 | NA      | 21-40   | NA      | NA      | 1       | 0       | ...     | NA      | NA      | NA      | S       | 0-32    | NA      | NA      | NA      | NA      |  3      |\n",
       "| 6       | male    | 29.88   |  8.4583 | NA      | 21-40   | NA      | NA      | 1       | 0       | ...     | NA      | NA      | Q       | NA      | 0-32    | NA      | NA      | NA      | NA      |  3      |\n",
       "\n"
      ],
      "text/plain": [
       "  PassengerId Sex    Age   Fare    0-20 21-40 41-60 61-Max isAlone FamilyM ...\n",
       "1 1           male   22.00  7.2500 NA   21-40 NA    NA     0       1       ...\n",
       "2 2           female 38.00 71.2833 NA   21-40 NA    NA     0       1       ...\n",
       "3 3           female 26.00  7.9250 NA   21-40 NA    NA     1       0       ...\n",
       "4 4           female 35.00 53.1000 NA   21-40 NA    NA     0       1       ...\n",
       "5 5           male   35.00  8.0500 NA   21-40 NA    NA     1       0       ...\n",
       "6 6           male   29.88  8.4583 NA   21-40 NA    NA     1       0       ...\n",
       "  4-Max C  Q  S  0-32 100-Max 32-100 1  2  3 \n",
       "1 NA    NA NA S  0-32 NA      NA     NA NA  3\n",
       "2 NA    C  NA NA NA   NA      32-100  1 NA NA\n",
       "3 NA    NA NA S  0-32 NA      NA     NA NA  3\n",
       "4 NA    NA NA S  NA   NA      32-100  1 NA NA\n",
       "5 NA    NA NA S  0-32 NA      NA     NA NA  3\n",
       "6 NA    NA Q  NA 0-32 NA      NA     NA NA  3"
      ]
     },
     "metadata": {},
     "output_type": "display_data"
    }
   ],
   "source": [
    "#spreading Pclass\n",
    "combineData <- combineData %>% spread(key = Pclass,value = Pclass)\n",
    "head(combineData)"
   ]
  },
  {
   "cell_type": "code",
   "execution_count": 16,
   "metadata": {},
   "outputs": [
    {
     "data": {
      "text/html": [
       "<table>\n",
       "<thead><tr><th scope=col>PassengerId</th><th scope=col>Sex</th><th scope=col>Age</th><th scope=col>Fare</th><th scope=col>0-20</th><th scope=col>21-40</th><th scope=col>41-60</th><th scope=col>61-Max</th><th scope=col>isAlone</th><th scope=col>FamilyM</th><th scope=col>...</th><th scope=col>4-Max</th><th scope=col>C</th><th scope=col>Q</th><th scope=col>S</th><th scope=col>0-32</th><th scope=col>100-Max</th><th scope=col>32-100</th><th scope=col>1</th><th scope=col>2</th><th scope=col>3</th></tr></thead>\n",
       "<tbody>\n",
       "\t<tr><td>1      </td><td>1      </td><td>22.00  </td><td> 7.2500</td><td>NA     </td><td>21-40  </td><td>NA     </td><td>NA     </td><td>0      </td><td>1      </td><td>...    </td><td>NA     </td><td>NA     </td><td>NA     </td><td>S      </td><td>0-32   </td><td>NA     </td><td>NA     </td><td>NA     </td><td>NA     </td><td> 3     </td></tr>\n",
       "\t<tr><td>2      </td><td>0      </td><td>38.00  </td><td>71.2833</td><td>NA     </td><td>21-40  </td><td>NA     </td><td>NA     </td><td>0      </td><td>1      </td><td>...    </td><td>NA     </td><td>C      </td><td>NA     </td><td>NA     </td><td>NA     </td><td>NA     </td><td>32-100 </td><td> 1     </td><td>NA     </td><td>NA     </td></tr>\n",
       "\t<tr><td>3      </td><td>0      </td><td>26.00  </td><td> 7.9250</td><td>NA     </td><td>21-40  </td><td>NA     </td><td>NA     </td><td>1      </td><td>0      </td><td>...    </td><td>NA     </td><td>NA     </td><td>NA     </td><td>S      </td><td>0-32   </td><td>NA     </td><td>NA     </td><td>NA     </td><td>NA     </td><td> 3     </td></tr>\n",
       "\t<tr><td>4      </td><td>0      </td><td>35.00  </td><td>53.1000</td><td>NA     </td><td>21-40  </td><td>NA     </td><td>NA     </td><td>0      </td><td>1      </td><td>...    </td><td>NA     </td><td>NA     </td><td>NA     </td><td>S      </td><td>NA     </td><td>NA     </td><td>32-100 </td><td> 1     </td><td>NA     </td><td>NA     </td></tr>\n",
       "\t<tr><td>5      </td><td>1      </td><td>35.00  </td><td> 8.0500</td><td>NA     </td><td>21-40  </td><td>NA     </td><td>NA     </td><td>1      </td><td>0      </td><td>...    </td><td>NA     </td><td>NA     </td><td>NA     </td><td>S      </td><td>0-32   </td><td>NA     </td><td>NA     </td><td>NA     </td><td>NA     </td><td> 3     </td></tr>\n",
       "\t<tr><td>6      </td><td>1      </td><td>29.88  </td><td> 8.4583</td><td>NA     </td><td>21-40  </td><td>NA     </td><td>NA     </td><td>1      </td><td>0      </td><td>...    </td><td>NA     </td><td>NA     </td><td>Q      </td><td>NA     </td><td>0-32   </td><td>NA     </td><td>NA     </td><td>NA     </td><td>NA     </td><td> 3     </td></tr>\n",
       "</tbody>\n",
       "</table>\n"
      ],
      "text/latex": [
       "\\begin{tabular}{r|lllllllllllllllllllll}\n",
       " PassengerId & Sex & Age & Fare & 0-20 & 21-40 & 41-60 & 61-Max & isAlone & FamilyM & ... & 4-Max & C & Q & S & 0-32 & 100-Max & 32-100 & 1 & 2 & 3\\\\\n",
       "\\hline\n",
       "\t 1       & 1       & 22.00   &  7.2500 & NA      & 21-40   & NA      & NA      & 0       & 1       & ...     & NA      & NA      & NA      & S       & 0-32    & NA      & NA      & NA      & NA      &  3     \\\\\n",
       "\t 2       & 0       & 38.00   & 71.2833 & NA      & 21-40   & NA      & NA      & 0       & 1       & ...     & NA      & C       & NA      & NA      & NA      & NA      & 32-100  &  1      & NA      & NA     \\\\\n",
       "\t 3       & 0       & 26.00   &  7.9250 & NA      & 21-40   & NA      & NA      & 1       & 0       & ...     & NA      & NA      & NA      & S       & 0-32    & NA      & NA      & NA      & NA      &  3     \\\\\n",
       "\t 4       & 0       & 35.00   & 53.1000 & NA      & 21-40   & NA      & NA      & 0       & 1       & ...     & NA      & NA      & NA      & S       & NA      & NA      & 32-100  &  1      & NA      & NA     \\\\\n",
       "\t 5       & 1       & 35.00   &  8.0500 & NA      & 21-40   & NA      & NA      & 1       & 0       & ...     & NA      & NA      & NA      & S       & 0-32    & NA      & NA      & NA      & NA      &  3     \\\\\n",
       "\t 6       & 1       & 29.88   &  8.4583 & NA      & 21-40   & NA      & NA      & 1       & 0       & ...     & NA      & NA      & Q       & NA      & 0-32    & NA      & NA      & NA      & NA      &  3     \\\\\n",
       "\\end{tabular}\n"
      ],
      "text/markdown": [
       "\n",
       "| PassengerId | Sex | Age | Fare | 0-20 | 21-40 | 41-60 | 61-Max | isAlone | FamilyM | ... | 4-Max | C | Q | S | 0-32 | 100-Max | 32-100 | 1 | 2 | 3 |\n",
       "|---|---|---|---|---|---|---|---|---|---|---|---|---|---|---|---|---|---|---|---|---|\n",
       "| 1       | 1       | 22.00   |  7.2500 | NA      | 21-40   | NA      | NA      | 0       | 1       | ...     | NA      | NA      | NA      | S       | 0-32    | NA      | NA      | NA      | NA      |  3      |\n",
       "| 2       | 0       | 38.00   | 71.2833 | NA      | 21-40   | NA      | NA      | 0       | 1       | ...     | NA      | C       | NA      | NA      | NA      | NA      | 32-100  |  1      | NA      | NA      |\n",
       "| 3       | 0       | 26.00   |  7.9250 | NA      | 21-40   | NA      | NA      | 1       | 0       | ...     | NA      | NA      | NA      | S       | 0-32    | NA      | NA      | NA      | NA      |  3      |\n",
       "| 4       | 0       | 35.00   | 53.1000 | NA      | 21-40   | NA      | NA      | 0       | 1       | ...     | NA      | NA      | NA      | S       | NA      | NA      | 32-100  |  1      | NA      | NA      |\n",
       "| 5       | 1       | 35.00   |  8.0500 | NA      | 21-40   | NA      | NA      | 1       | 0       | ...     | NA      | NA      | NA      | S       | 0-32    | NA      | NA      | NA      | NA      |  3      |\n",
       "| 6       | 1       | 29.88   |  8.4583 | NA      | 21-40   | NA      | NA      | 1       | 0       | ...     | NA      | NA      | Q       | NA      | 0-32    | NA      | NA      | NA      | NA      |  3      |\n",
       "\n"
      ],
      "text/plain": [
       "  PassengerId Sex Age   Fare    0-20 21-40 41-60 61-Max isAlone FamilyM ...\n",
       "1 1           1   22.00  7.2500 NA   21-40 NA    NA     0       1       ...\n",
       "2 2           0   38.00 71.2833 NA   21-40 NA    NA     0       1       ...\n",
       "3 3           0   26.00  7.9250 NA   21-40 NA    NA     1       0       ...\n",
       "4 4           0   35.00 53.1000 NA   21-40 NA    NA     0       1       ...\n",
       "5 5           1   35.00  8.0500 NA   21-40 NA    NA     1       0       ...\n",
       "6 6           1   29.88  8.4583 NA   21-40 NA    NA     1       0       ...\n",
       "  4-Max C  Q  S  0-32 100-Max 32-100 1  2  3 \n",
       "1 NA    NA NA S  0-32 NA      NA     NA NA  3\n",
       "2 NA    C  NA NA NA   NA      32-100  1 NA NA\n",
       "3 NA    NA NA S  0-32 NA      NA     NA NA  3\n",
       "4 NA    NA NA S  NA   NA      32-100  1 NA NA\n",
       "5 NA    NA NA S  0-32 NA      NA     NA NA  3\n",
       "6 NA    NA Q  NA 0-32 NA      NA     NA NA  3"
      ]
     },
     "metadata": {},
     "output_type": "display_data"
    }
   ],
   "source": [
    "#Changing value for 'Sex' feature to [0,1]\n",
    "combineData <- combineData %>% mutate(Sex = if_else(Sex=='male',1,0))\n",
    "head(combineData)"
   ]
  },
  {
   "cell_type": "code",
   "execution_count": 17,
   "metadata": {},
   "outputs": [
    {
     "data": {
      "text/html": [
       "<table>\n",
       "<thead><tr><th scope=col>PassengerId</th><th scope=col>Sex</th><th scope=col>Age</th><th scope=col>Fare</th><th scope=col>0-20</th><th scope=col>21-40</th><th scope=col>41-60</th><th scope=col>61-Max</th><th scope=col>isAlone</th><th scope=col>FamilyM</th><th scope=col>...</th><th scope=col>4-Max</th><th scope=col>C</th><th scope=col>Q</th><th scope=col>S</th><th scope=col>0-32</th><th scope=col>100-Max</th><th scope=col>32-100</th><th scope=col>1</th><th scope=col>2</th><th scope=col>3</th></tr></thead>\n",
       "<tbody>\n",
       "\t<tr><td>1      </td><td>1      </td><td>22.00  </td><td> 7.2500</td><td>0      </td><td>1      </td><td>0      </td><td>0      </td><td>0      </td><td>1      </td><td>...    </td><td>0      </td><td>0      </td><td>0      </td><td>1      </td><td>1      </td><td>0      </td><td>0      </td><td>0      </td><td>0      </td><td>1      </td></tr>\n",
       "\t<tr><td>2      </td><td>0      </td><td>38.00  </td><td>71.2833</td><td>0      </td><td>1      </td><td>0      </td><td>0      </td><td>0      </td><td>1      </td><td>...    </td><td>0      </td><td>1      </td><td>0      </td><td>0      </td><td>0      </td><td>0      </td><td>1      </td><td>1      </td><td>0      </td><td>0      </td></tr>\n",
       "\t<tr><td>3      </td><td>0      </td><td>26.00  </td><td> 7.9250</td><td>0      </td><td>1      </td><td>0      </td><td>0      </td><td>1      </td><td>0      </td><td>...    </td><td>0      </td><td>0      </td><td>0      </td><td>1      </td><td>1      </td><td>0      </td><td>0      </td><td>0      </td><td>0      </td><td>1      </td></tr>\n",
       "\t<tr><td>4      </td><td>0      </td><td>35.00  </td><td>53.1000</td><td>0      </td><td>1      </td><td>0      </td><td>0      </td><td>0      </td><td>1      </td><td>...    </td><td>0      </td><td>0      </td><td>0      </td><td>1      </td><td>0      </td><td>0      </td><td>1      </td><td>1      </td><td>0      </td><td>0      </td></tr>\n",
       "\t<tr><td>5      </td><td>1      </td><td>35.00  </td><td> 8.0500</td><td>0      </td><td>1      </td><td>0      </td><td>0      </td><td>1      </td><td>0      </td><td>...    </td><td>0      </td><td>0      </td><td>0      </td><td>1      </td><td>1      </td><td>0      </td><td>0      </td><td>0      </td><td>0      </td><td>1      </td></tr>\n",
       "\t<tr><td>6      </td><td>1      </td><td>29.88  </td><td> 8.4583</td><td>0      </td><td>1      </td><td>0      </td><td>0      </td><td>1      </td><td>0      </td><td>...    </td><td>0      </td><td>0      </td><td>1      </td><td>0      </td><td>1      </td><td>0      </td><td>0      </td><td>0      </td><td>0      </td><td>1      </td></tr>\n",
       "</tbody>\n",
       "</table>\n"
      ],
      "text/latex": [
       "\\begin{tabular}{r|lllllllllllllllllllll}\n",
       " PassengerId & Sex & Age & Fare & 0-20 & 21-40 & 41-60 & 61-Max & isAlone & FamilyM & ... & 4-Max & C & Q & S & 0-32 & 100-Max & 32-100 & 1 & 2 & 3\\\\\n",
       "\\hline\n",
       "\t 1       & 1       & 22.00   &  7.2500 & 0       & 1       & 0       & 0       & 0       & 1       & ...     & 0       & 0       & 0       & 1       & 1       & 0       & 0       & 0       & 0       & 1      \\\\\n",
       "\t 2       & 0       & 38.00   & 71.2833 & 0       & 1       & 0       & 0       & 0       & 1       & ...     & 0       & 1       & 0       & 0       & 0       & 0       & 1       & 1       & 0       & 0      \\\\\n",
       "\t 3       & 0       & 26.00   &  7.9250 & 0       & 1       & 0       & 0       & 1       & 0       & ...     & 0       & 0       & 0       & 1       & 1       & 0       & 0       & 0       & 0       & 1      \\\\\n",
       "\t 4       & 0       & 35.00   & 53.1000 & 0       & 1       & 0       & 0       & 0       & 1       & ...     & 0       & 0       & 0       & 1       & 0       & 0       & 1       & 1       & 0       & 0      \\\\\n",
       "\t 5       & 1       & 35.00   &  8.0500 & 0       & 1       & 0       & 0       & 1       & 0       & ...     & 0       & 0       & 0       & 1       & 1       & 0       & 0       & 0       & 0       & 1      \\\\\n",
       "\t 6       & 1       & 29.88   &  8.4583 & 0       & 1       & 0       & 0       & 1       & 0       & ...     & 0       & 0       & 1       & 0       & 1       & 0       & 0       & 0       & 0       & 1      \\\\\n",
       "\\end{tabular}\n"
      ],
      "text/markdown": [
       "\n",
       "| PassengerId | Sex | Age | Fare | 0-20 | 21-40 | 41-60 | 61-Max | isAlone | FamilyM | ... | 4-Max | C | Q | S | 0-32 | 100-Max | 32-100 | 1 | 2 | 3 |\n",
       "|---|---|---|---|---|---|---|---|---|---|---|---|---|---|---|---|---|---|---|---|---|\n",
       "| 1       | 1       | 22.00   |  7.2500 | 0       | 1       | 0       | 0       | 0       | 1       | ...     | 0       | 0       | 0       | 1       | 1       | 0       | 0       | 0       | 0       | 1       |\n",
       "| 2       | 0       | 38.00   | 71.2833 | 0       | 1       | 0       | 0       | 0       | 1       | ...     | 0       | 1       | 0       | 0       | 0       | 0       | 1       | 1       | 0       | 0       |\n",
       "| 3       | 0       | 26.00   |  7.9250 | 0       | 1       | 0       | 0       | 1       | 0       | ...     | 0       | 0       | 0       | 1       | 1       | 0       | 0       | 0       | 0       | 1       |\n",
       "| 4       | 0       | 35.00   | 53.1000 | 0       | 1       | 0       | 0       | 0       | 1       | ...     | 0       | 0       | 0       | 1       | 0       | 0       | 1       | 1       | 0       | 0       |\n",
       "| 5       | 1       | 35.00   |  8.0500 | 0       | 1       | 0       | 0       | 1       | 0       | ...     | 0       | 0       | 0       | 1       | 1       | 0       | 0       | 0       | 0       | 1       |\n",
       "| 6       | 1       | 29.88   |  8.4583 | 0       | 1       | 0       | 0       | 1       | 0       | ...     | 0       | 0       | 1       | 0       | 1       | 0       | 0       | 0       | 0       | 1       |\n",
       "\n"
      ],
      "text/plain": [
       "  PassengerId Sex Age   Fare    0-20 21-40 41-60 61-Max isAlone FamilyM ...\n",
       "1 1           1   22.00  7.2500 0    1     0     0      0       1       ...\n",
       "2 2           0   38.00 71.2833 0    1     0     0      0       1       ...\n",
       "3 3           0   26.00  7.9250 0    1     0     0      1       0       ...\n",
       "4 4           0   35.00 53.1000 0    1     0     0      0       1       ...\n",
       "5 5           1   35.00  8.0500 0    1     0     0      1       0       ...\n",
       "6 6           1   29.88  8.4583 0    1     0     0      1       0       ...\n",
       "  4-Max C Q S 0-32 100-Max 32-100 1 2 3\n",
       "1 0     0 0 1 1    0       0      0 0 1\n",
       "2 0     1 0 0 0    0       1      1 0 0\n",
       "3 0     0 0 1 1    0       0      0 0 1\n",
       "4 0     0 0 1 0    0       1      1 0 0\n",
       "5 0     0 0 1 1    0       0      0 0 1\n",
       "6 0     0 1 0 1    0       0      0 0 1"
      ]
     },
     "metadata": {},
     "output_type": "display_data"
    }
   ],
   "source": [
    "#changing vaues for other created features to [0,1]\n",
    "nf <- c(5:8,11:21)\n",
    "for(i in nf){\n",
    "    combineData[i] <- if_else(is.na(combineData[i]),0,1)\n",
    "}\n",
    "\n",
    "head(combineData)"
   ]
  },
  {
   "cell_type": "code",
   "execution_count": 18,
   "metadata": {},
   "outputs": [
    {
     "data": {
      "text/html": [
       "<table>\n",
       "<thead><tr><th scope=col>PassengerId</th><th scope=col>Sex</th><th scope=col>Age</th><th scope=col>Fare</th><th scope=col>0-20</th><th scope=col>21-40</th><th scope=col>41-60</th><th scope=col>61-Max</th><th scope=col>isAlone</th><th scope=col>FamilyM</th><th scope=col>...</th><th scope=col>4-Max</th><th scope=col>C</th><th scope=col>Q</th><th scope=col>S</th><th scope=col>0-32</th><th scope=col>100-Max</th><th scope=col>32-100</th><th scope=col>1</th><th scope=col>2</th><th scope=col>3</th></tr></thead>\n",
       "<tbody>\n",
       "\t<tr><td>1   </td><td>1   </td><td>0.27</td><td>0.01</td><td>0   </td><td>1   </td><td>0   </td><td>0   </td><td>0   </td><td>0.1 </td><td>... </td><td>0   </td><td>0   </td><td>0   </td><td>1   </td><td>1   </td><td>0   </td><td>0   </td><td>0   </td><td>0   </td><td>1   </td></tr>\n",
       "\t<tr><td>2   </td><td>0   </td><td>0.47</td><td>0.14</td><td>0   </td><td>1   </td><td>0   </td><td>0   </td><td>0   </td><td>0.1 </td><td>... </td><td>0   </td><td>1   </td><td>0   </td><td>0   </td><td>0   </td><td>0   </td><td>1   </td><td>1   </td><td>0   </td><td>0   </td></tr>\n",
       "\t<tr><td>3   </td><td>0   </td><td>0.32</td><td>0.02</td><td>0   </td><td>1   </td><td>0   </td><td>0   </td><td>1   </td><td>0.0 </td><td>... </td><td>0   </td><td>0   </td><td>0   </td><td>1   </td><td>1   </td><td>0   </td><td>0   </td><td>0   </td><td>0   </td><td>1   </td></tr>\n",
       "\t<tr><td>4   </td><td>0   </td><td>0.44</td><td>0.10</td><td>0   </td><td>1   </td><td>0   </td><td>0   </td><td>0   </td><td>0.1 </td><td>... </td><td>0   </td><td>0   </td><td>0   </td><td>1   </td><td>0   </td><td>0   </td><td>1   </td><td>1   </td><td>0   </td><td>0   </td></tr>\n",
       "\t<tr><td>5   </td><td>1   </td><td>0.44</td><td>0.02</td><td>0   </td><td>1   </td><td>0   </td><td>0   </td><td>1   </td><td>0.0 </td><td>... </td><td>0   </td><td>0   </td><td>0   </td><td>1   </td><td>1   </td><td>0   </td><td>0   </td><td>0   </td><td>0   </td><td>1   </td></tr>\n",
       "\t<tr><td>6   </td><td>1   </td><td>0.37</td><td>0.02</td><td>0   </td><td>1   </td><td>0   </td><td>0   </td><td>1   </td><td>0.0 </td><td>... </td><td>0   </td><td>0   </td><td>1   </td><td>0   </td><td>1   </td><td>0   </td><td>0   </td><td>0   </td><td>0   </td><td>1   </td></tr>\n",
       "</tbody>\n",
       "</table>\n"
      ],
      "text/latex": [
       "\\begin{tabular}{r|lllllllllllllllllllll}\n",
       " PassengerId & Sex & Age & Fare & 0-20 & 21-40 & 41-60 & 61-Max & isAlone & FamilyM & ... & 4-Max & C & Q & S & 0-32 & 100-Max & 32-100 & 1 & 2 & 3\\\\\n",
       "\\hline\n",
       "\t 1    & 1    & 0.27 & 0.01 & 0    & 1    & 0    & 0    & 0    & 0.1  & ...  & 0    & 0    & 0    & 1    & 1    & 0    & 0    & 0    & 0    & 1   \\\\\n",
       "\t 2    & 0    & 0.47 & 0.14 & 0    & 1    & 0    & 0    & 0    & 0.1  & ...  & 0    & 1    & 0    & 0    & 0    & 0    & 1    & 1    & 0    & 0   \\\\\n",
       "\t 3    & 0    & 0.32 & 0.02 & 0    & 1    & 0    & 0    & 1    & 0.0  & ...  & 0    & 0    & 0    & 1    & 1    & 0    & 0    & 0    & 0    & 1   \\\\\n",
       "\t 4    & 0    & 0.44 & 0.10 & 0    & 1    & 0    & 0    & 0    & 0.1  & ...  & 0    & 0    & 0    & 1    & 0    & 0    & 1    & 1    & 0    & 0   \\\\\n",
       "\t 5    & 1    & 0.44 & 0.02 & 0    & 1    & 0    & 0    & 1    & 0.0  & ...  & 0    & 0    & 0    & 1    & 1    & 0    & 0    & 0    & 0    & 1   \\\\\n",
       "\t 6    & 1    & 0.37 & 0.02 & 0    & 1    & 0    & 0    & 1    & 0.0  & ...  & 0    & 0    & 1    & 0    & 1    & 0    & 0    & 0    & 0    & 1   \\\\\n",
       "\\end{tabular}\n"
      ],
      "text/markdown": [
       "\n",
       "| PassengerId | Sex | Age | Fare | 0-20 | 21-40 | 41-60 | 61-Max | isAlone | FamilyM | ... | 4-Max | C | Q | S | 0-32 | 100-Max | 32-100 | 1 | 2 | 3 |\n",
       "|---|---|---|---|---|---|---|---|---|---|---|---|---|---|---|---|---|---|---|---|---|\n",
       "| 1    | 1    | 0.27 | 0.01 | 0    | 1    | 0    | 0    | 0    | 0.1  | ...  | 0    | 0    | 0    | 1    | 1    | 0    | 0    | 0    | 0    | 1    |\n",
       "| 2    | 0    | 0.47 | 0.14 | 0    | 1    | 0    | 0    | 0    | 0.1  | ...  | 0    | 1    | 0    | 0    | 0    | 0    | 1    | 1    | 0    | 0    |\n",
       "| 3    | 0    | 0.32 | 0.02 | 0    | 1    | 0    | 0    | 1    | 0.0  | ...  | 0    | 0    | 0    | 1    | 1    | 0    | 0    | 0    | 0    | 1    |\n",
       "| 4    | 0    | 0.44 | 0.10 | 0    | 1    | 0    | 0    | 0    | 0.1  | ...  | 0    | 0    | 0    | 1    | 0    | 0    | 1    | 1    | 0    | 0    |\n",
       "| 5    | 1    | 0.44 | 0.02 | 0    | 1    | 0    | 0    | 1    | 0.0  | ...  | 0    | 0    | 0    | 1    | 1    | 0    | 0    | 0    | 0    | 1    |\n",
       "| 6    | 1    | 0.37 | 0.02 | 0    | 1    | 0    | 0    | 1    | 0.0  | ...  | 0    | 0    | 1    | 0    | 1    | 0    | 0    | 0    | 0    | 1    |\n",
       "\n"
      ],
      "text/plain": [
       "  PassengerId Sex Age  Fare 0-20 21-40 41-60 61-Max isAlone FamilyM ... 4-Max C\n",
       "1 1           1   0.27 0.01 0    1     0     0      0       0.1     ... 0     0\n",
       "2 2           0   0.47 0.14 0    1     0     0      0       0.1     ... 0     1\n",
       "3 3           0   0.32 0.02 0    1     0     0      1       0.0     ... 0     0\n",
       "4 4           0   0.44 0.10 0    1     0     0      0       0.1     ... 0     0\n",
       "5 5           1   0.44 0.02 0    1     0     0      1       0.0     ... 0     0\n",
       "6 6           1   0.37 0.02 0    1     0     0      1       0.0     ... 0     0\n",
       "  Q S 0-32 100-Max 32-100 1 2 3\n",
       "1 0 1 1    0       0      0 0 1\n",
       "2 0 0 0    0       1      1 0 0\n",
       "3 0 1 1    0       0      0 0 1\n",
       "4 0 1 0    0       1      1 0 0\n",
       "5 0 1 1    0       0      0 0 1\n",
       "6 1 0 1    0       0      0 0 1"
      ]
     },
     "metadata": {},
     "output_type": "display_data"
    }
   ],
   "source": [
    "#Feature Scaling for Age and Fare as there values are very high and can put extra weight to the prediction\n",
    "combineData <- combineData %>% mutate(Age = (Age - min(Age))/diff(range(Age)))\n",
    "combineData <- combineData %>% mutate(Fare = (Fare - min(Fare))/diff(range(Fare)))\n",
    "combineData <- combineData %>% mutate(FamilyM = (FamilyM - min(FamilyM))/diff(range(FamilyM)))\n",
    "#performed Max-Min normalization not mean normalization, so that values can be in range [0,1]\n",
    "\n",
    "#rounding the digits to 2 digit place, so that not to cause much noise in data\n",
    "combineData$Age <- round(combineData$Age,2)\n",
    "combineData$Fare <- round(combineData$Fare,2)\n",
    "\n",
    "head(combineData)"
   ]
  },
  {
   "cell_type": "code",
   "execution_count": 19,
   "metadata": {},
   "outputs": [],
   "source": [
    "#Data is all ready now, we can also remove PassengerId here\n",
    "combineData <- combineData %>% select(-PassengerId)\n",
    "\n",
    "#we also have to separate data to train and test\n",
    "normalised_train_data <- cbind(combineData[1:891,],data[,\"Survived\"]) #first 891 rows and last Survived feature are part of training data\n",
    "normalised_test_data <- combineData[892:1309,] #last 418 rows to test\n",
    "\n",
    "#exporting the data\n",
    "write.table(normalised_train_data,file = 'C:\\\\Users\\\\mehul\\\\OneDrive\\\\Desktop\\\\normalised_train_data.txt',sep = '\\t', col.names = FALSE, row.names = FALSE)\n",
    "write.table(normalised_test_data,file = 'C:\\\\Users\\\\mehul\\\\OneDrive\\\\Desktop\\\\normalised_test_data.txt',sep = '\\t', col.names = FALSE, row.names = FALSE)\n"
   ]
  },
  {
   "cell_type": "code",
   "execution_count": 20,
   "metadata": {},
   "outputs": [],
   "source": [
    "#Next steps for prediction are provided in Octave by me. Please have a look to it, to gain the accuracy of created model."
   ]
  }
 ],
 "metadata": {
  "kernelspec": {
   "display_name": "R",
   "language": "R",
   "name": "ir"
  },
  "language_info": {
   "codemirror_mode": "r",
   "file_extension": ".r",
   "mimetype": "text/x-r-source",
   "name": "R",
   "pygments_lexer": "r",
   "version": "3.5.1"
  }
 },
 "nbformat": 4,
 "nbformat_minor": 2
}
